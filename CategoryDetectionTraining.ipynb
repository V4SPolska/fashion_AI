{
 "cells": [
  {
   "cell_type": "markdown",
   "metadata": {},
   "source": [
    "## Imports"
   ]
  },
  {
   "cell_type": "code",
   "execution_count": 1,
   "metadata": {
    "colab": {
     "base_uri": "https://localhost:8080/"
    },
    "executionInfo": {
     "elapsed": 6529,
     "status": "ok",
     "timestamp": 1679580012109,
     "user": {
      "displayName": "Maks Wojtas",
      "userId": "11103437561791788771"
     },
     "user_tz": 0
    },
    "id": "1iMZmEqngjHZ",
    "outputId": "079e25c8-b86e-4888-878e-3c434471543b"
   },
   "outputs": [
    {
     "name": "stdout",
     "output_type": "stream",
     "text": [
      "Thu Mar 23 14:00:10 2023       \n",
      "+-----------------------------------------------------------------------------+\n",
      "| NVIDIA-SMI 525.85.12    Driver Version: 525.85.12    CUDA Version: 12.0     |\n",
      "|-------------------------------+----------------------+----------------------+\n",
      "| GPU  Name        Persistence-M| Bus-Id        Disp.A | Volatile Uncorr. ECC |\n",
      "| Fan  Temp  Perf  Pwr:Usage/Cap|         Memory-Usage | GPU-Util  Compute M. |\n",
      "|                               |                      |               MIG M. |\n",
      "|===============================+======================+======================|\n",
      "|   0  Tesla T4            Off  | 00000000:00:04.0 Off |                    0 |\n",
      "| N/A   55C    P0    28W /  70W |      0MiB / 15360MiB |      0%      Default |\n",
      "|                               |                      |                  N/A |\n",
      "+-------------------------------+----------------------+----------------------+\n",
      "                                                                               \n",
      "+-----------------------------------------------------------------------------+\n",
      "| Processes:                                                                  |\n",
      "|  GPU   GI   CI        PID   Type   Process name                  GPU Memory |\n",
      "|        ID   ID                                                   Usage      |\n",
      "|=============================================================================|\n",
      "|  No running processes found                                                 |\n",
      "+-----------------------------------------------------------------------------+\n",
      "2.11.0\n"
     ]
    }
   ],
   "source": [
    "#@title IMPORTS+ nvidia-smi\n",
    "from tensorflow.keras import preprocessing\n",
    "import os\n",
    "import json\n",
    "from io import BytesIO\n",
    "import urllib.request\n",
    "import numpy as np\n",
    "import matplotlib.pyplot as plt\n",
    "import sklearn\n",
    "import cv2\n",
    "import tensorflow as tf\n",
    "from PIL import Image\n",
    "from tensorflow import keras\n",
    "from tensorflow.keras import backend as K\n",
    "from tensorflow.python.framework.ops import disable_eager_execution,enable_eager_execution\n",
    "from tensorflow.image import rgb_to_grayscale\n",
    "\n",
    "!nvidia-smi\n",
    "print(tf.__version__)"
   ]
  },
  {
   "cell_type": "code",
   "execution_count": 2,
   "metadata": {
    "cellView": "form",
    "colab": {
     "base_uri": "https://localhost:8080/"
    },
    "executionInfo": {
     "elapsed": 23090,
     "status": "ok",
     "timestamp": 1679580035195,
     "user": {
      "displayName": "Maks Wojtas",
      "userId": "11103437561791788771"
     },
     "user_tz": 0
    },
    "id": "aHtLDO_HzpOC",
    "outputId": "7ec5f9f5-74a5-458f-c643-1732d6939caf"
   },
   "outputs": [
    {
     "name": "stdout",
     "output_type": "stream",
     "text": [
      "Mounted at /content/drive\n"
     ]
    }
   ],
   "source": [
    "# Mount Drive\n",
    "from google.colab import drive\n",
    "DRIVE_DIR = '/content/drive/My Drive'\n",
    "drive.mount('/content/drive')"
   ]
  },
  {
   "cell_type": "markdown",
   "metadata": {},
   "source": [
    "## Example of category encodigns"
   ]
  },
  {
   "cell_type": "code",
   "execution_count": 9,
   "metadata": {
    "executionInfo": {
     "elapsed": 2,
     "status": "ok",
     "timestamp": 1679580071639,
     "user": {
      "displayName": "Maks Wojtas",
      "userId": "11103437561791788771"
     },
     "user_tz": 0
    },
    "id": "FhTgEL3ObxxY"
   },
   "outputs": [],
   "source": [
    "\n",
    "cats_dict = [\n",
    "        {'id': 0, 'name': 'dresses',   'nn_output_id': 0, 'feed_cats': [331, 332, 333, 334, 335, 336, 330]},\n",
    "        {'id': 1, 'name': 'tops',      'nn_output_id': 1, 'feed_cats': [241, 242, 243, 240, 291, 290, 341, 342, 343, 344, 340, 351, 352, 353, 350]},\n",
    "        {'id': 2, 'name': 'skirts',    'nn_output_id': 2, 'feed_cats': [321, 322, 323, 324, 325, 326, 327, 328, 320]},\n",
    "        {'id': 3, 'name': 'outerwear', 'nn_output_id': 3, 'feed_cats': [271, 272, 273, 274, 275, 276, 277, 278, 270, 281, 282, 283, 284, 280, 301, 302, 300]},\n",
    "        {'id': 4, 'name': 'leggings',  'nn_output_id': 4, 'feed_cats': [311, 312, 313, 314, 315, 316, 310]},\n",
    "        {'id': 5, 'name': 'footwear',  'nn_output_id': 0, 'feed_cats': [251, 252, 253, 254, 255, 256, 257, 258, 259, 260, 250]},\n",
    "        {'id': 6, 'name': 'bags',      'nn_output_id': 0, 'feed_cats': [371, 372, 373, 374, 375, 376, 370]},\n",
    "]\n",
    "clothing_cats = ['sukienka','top','spódnica','outwear','spodnie','buty','torba']"
   ]
  },
  {
   "cell_type": "markdown",
   "metadata": {},
   "source": [
    "## Model Hyperparams"
   ]
  },
  {
   "cell_type": "code",
   "execution_count": 16,
   "metadata": {
    "colab": {
     "base_uri": "https://localhost:8080/"
    },
    "executionInfo": {
     "elapsed": 242,
     "status": "ok",
     "timestamp": 1679580184193,
     "user": {
      "displayName": "Maks Wojtas",
      "userId": "11103437561791788771"
     },
     "user_tz": 0
    },
    "id": "eUXob9IXg0_1",
    "outputId": "5d16eaa0-5e46-4a6a-8e84-54f4a2c89893"
   },
   "outputs": [
    {
     "name": "stdout",
     "output_type": "stream",
     "text": [
      "Predicted dataset size (GB):  1.469263806939125\n"
     ]
    }
   ],
   "source": [
    "BATCH_SIZE = 194\n",
    "IMG_SHAPE=(300,300)\n",
    "INPUT_SHAPE=(300,300,3)\n",
    "BACKBONE = 'EfficientNetB3'\n",
    "ARCH_VERSION = 2\n",
    "LOAD_TO_MEMORY=True\n",
    "\n",
    "#priunt dataset size to decide if it should eb laoded into memory or dynamically loaded during training\n",
    "dataset_memory_size = np.zeros((1),dtype='uint8').itemsize*INPUT_SHAPE[0]*INPUT_SHAPE[1]*INPUT_SHAPE[2]*TOTAL_WEIGHT_SUM\n",
    "print(\"Predicted dataset size (GB): \",dataset_memory_size/float(1<<30))"
   ]
  },
  {
   "cell_type": "markdown",
   "metadata": {},
   "source": [
    "## Create image/imagepath array "
   ]
  },
  {
   "cell_type": "code",
   "execution_count": 17,
   "metadata": {
    "executionInfo": {
     "elapsed": 19195,
     "status": "ok",
     "timestamp": 1679580217841,
     "user": {
      "displayName": "Maks Wojtas",
      "userId": "11103437561791788771"
     },
     "user_tz": 0
    },
    "id": "R6pHIiFpGOEv"
   },
   "outputs": [],
   "source": [
    "from tensorflow.keras.preprocessing.image import load_img,img_to_array\n",
    "import PIL\n",
    "\n",
    "if LOAD_TO_MEMORY is True:\n",
    "  X = np.empty((N_TAGGED_IMAGES,)+INPUT_SHAPE,dtype='uint8')\n",
    "  y = np.empty((N_TAGGED_IMAGES,N_CATEGORIES),dtype='int')\n",
    "  for i,photo in enumerate(merged_json):\n",
    "    y[i] = np.in1d(np.array(clothing_cats),photo['tags'])  \n",
    "    X[i] = img_to_array(load_img(photo['files']['nn']['cache_path'],color_mode='rgb')) \n",
    "else:\n",
    "  X = np.empty((N_TAGGED_IMAGES,),dtype=object)\n",
    "  y = np.empty((N_TAGGED_IMAGES,N_CATEGORIES),dtype='int')\n",
    "  for i,photo in enumerate(merged_json):\n",
    "    y[i] = np.in1d(np.array(clothing_cats),photo['tags'])  \n",
    "    X[i] = photo['files']['nn']['cache_path']\n",
    "  y[len(merged_json):,:] = np.zeros((len(merged_untagged_json),N_CATEGORIES))\n",
    "\n"
   ]
  },
  {
   "cell_type": "code",
   "execution_count": null,
   "metadata": {
    "colab": {
     "base_uri": "https://localhost:8080/"
    },
    "executionInfo": {
     "elapsed": 1100,
     "status": "ok",
     "timestamp": 1642776092068,
     "user": {
      "displayName": "Maks Wojtas",
      "photoUrl": "https://lh3.googleusercontent.com/a-/AOh14GiTCyEeMsETGANb159xHh6rPT0tjQEvbsrDmbW_Tg=s64",
      "userId": "11103437561791788771"
     },
     "user_tz": 0
    },
    "id": "J0-yN_5A2ky0",
    "outputId": "77232739-9ef6-495b-a00a-d9bd4747de74"
   },
   "outputs": [
    {
     "name": "stdout",
     "output_type": "stream",
     "text": [
      "Train samples: 4966 Test samples: 877\n"
     ]
    }
   ],
   "source": [
    "#split images into training/test data\n",
    "from sklearn.model_selection import train_test_split\n",
    "\n",
    "TEST_FRAC = 0.15    \n",
    "X_train, X_test, y_w_train, y_w_test, train_idcs,test_idcs = train_test_split(X,y_w,np.arange(len(X)),test_size=TEST_FRAC, random_state=0)\n",
    "print(\"Train samples:\", len(X_train),\"Test samples:\", len(X_test))\n"
   ]
  },
  {
   "cell_type": "markdown",
   "metadata": {},
   "source": [
    "## Define different architecture backbones, best results with EfficientNetB3"
   ]
  },
  {
   "cell_type": "code",
   "execution_count": null,
   "metadata": {
    "cellView": "form",
    "id": "CpKC9nzW3--B"
   },
   "outputs": [],
   "source": [
    "#@title Get model fn\n",
    "from tensorflow.keras import layers,Model\n",
    "def get_model():    \n",
    "    if(BACKBONE=='EfficientNetB3'):\n",
    "        from tensorflow.keras.applications.efficientnet import EfficientNetB3,preprocess_input\n",
    "        model_backbone = EfficientNetB3(weights='imagenet',include_top=False, input_shape=INPUT_SHAPE)\n",
    "    elif(BACKBONE=='EfficientNetB4'):\n",
    "        from tensorflow.keras.applications.efficientnet import EfficientNetB4,preprocess_input\n",
    "        model_backbone = EfficientNetB4(weights='imagenet',include_top=False, input_shape=INPUT_SHAPE)\n",
    "    elif(BACKBONE=='xception'):\n",
    "        from tensorflow.keras.applications import Xception\n",
    "        from tensorflow.keras.applications.xception import preprocess_input\n",
    "        model_backbone = Xception(weights='imagenet',include_top=False, input_shape=INPUT_SHAPE)        \n",
    "    model_backbone.trainable = False\n",
    "    if ARCH_VERSION==0:\n",
    "      x = layers.GlobalMaxPooling2D(name=\"max_pool\")(model_backbone.outputs[0])\n",
    "      x = layers.BatchNormalization()(x)\n",
    "      x = layers.Flatten()(x)\n",
    "      x = layers.Dropout(0.3)(x)\n",
    "      x = layers.Dense(1024,activation='relu')(x)\n",
    "      x = layers.Dropout(0.3)(x)\n",
    "      output = layers.Dense(N_CATEGORIES,activation='sigmoid')(x)\n",
    "    elif ARCH_VERSION==1:\n",
    "      x = layers.GlobalMaxPooling2D(name=\"max_pool\")(model_backbone.outputs[0])\n",
    "      x = layers.BatchNormalization()(x)\n",
    "      x = layers.Flatten()(x)\n",
    "      x = layers.Dropout(0.3)(x)\n",
    "      x = layers.Dense(1024,activation='relu')(x)\n",
    "      x = layers.Dropout(0.3)(x)\n",
    "      x = layers.Dense(1024,activation='relu')(x)\n",
    "      x = layers.Dropout(0.3)(x)\n",
    "      output = layers.Dense(N_CATEGORIES,activation='sigmoid')(x)\n",
    "    elif ARCH_VERSION==2:\n",
    "      x = layers.GlobalMaxPooling2D(name=\"max_pool\")(model_backbone.outputs[0])\n",
    "      x = layers.BatchNormalization()(x)\n",
    "      x = layers.Flatten()(x)\n",
    "      x = layers.Dropout(0.3)(x)\n",
    "      x = layers.Dense(1024,activation='relu')(x)\n",
    "      x = layers.Dropout(0.3)(x)\n",
    "      output = layers.Dense(N_CATEGORIES,activation='linear')(x)\n",
    "    else:\n",
    "      raise ValueError()\n",
    "    preprocessing_fn = preprocess_input\n",
    "    model = Model(inputs = model_backbone.inputs, outputs = output)\n",
    "    model.summary()\n",
    "    return model, preprocessing_fn\n",
    "model, preprocessing_fn = get_model()"
   ]
  },
  {
   "cell_type": "markdown",
   "metadata": {},
   "source": [
    "## Create tf datasets"
   ]
  },
  {
   "cell_type": "code",
   "execution_count": null,
   "metadata": {
    "id": "4CC9JbbwIFCB"
   },
   "outputs": [],
   "source": [
    "from math import ceil\n",
    "\n",
    "train_img_gen = tf.keras.preprocessing.image.ImageDataGenerator(\n",
    "    rotation_range=15,\n",
    "    width_shift_range=0.2,\n",
    "    height_shift_range=0.2,\n",
    "    horizontal_flip=True,\n",
    "    brightness_range=(0.7,1.4),\n",
    "    preprocessing_function=preprocessing_fn\n",
    "    )\n",
    "test_img_gen = tf.keras.preprocessing.image.ImageDataGenerator(\n",
    "    preprocessing_function=preprocessing_fn)\n",
    "\n",
    "val_steps = ceil(len(X_test)/BATCH_SIZE)\n",
    "train_steps = ceil(len(X_train)/BATCH_SIZE)\n",
    "\n",
    "\n",
    "if LOAD_TO_MEMORY is True:\n",
    "  train_gen = train_img_gen.flow(x=X_train,y=y_w_train,shuffle=True,batch_size=BATCH_SIZE)\n",
    "  val_gen = test_img_gen.flow(x=X_test,y=y_w_test,shuffle=False,batch_size=BATCH_SIZE)\n",
    "else:\n",
    "  import pandas as pd\n",
    "  train_df = pd.DataFrame(data=X_train,  columns=[\"filenames\"])\n",
    "  for i in range(y_w_train.shape[1]):\n",
    "    train_df['y_'+str(i)] = y_w_train[:,i]\n",
    "\n",
    "  test_df = pd.DataFrame(data=X_test,  columns=[\"filenames\"])\n",
    "  for i in range(y_w_train.shape[1]):\n",
    "    test_df['y_'+str(i)] = y_w_test[:,i]\n",
    "  train_gen = train_img_gen.flow_from_dataframe(train_df,x_col='filenames',\n",
    "                                              y_col=['y_'+str(i) for i in range(2*N_CATEGORIES)],\n",
    "                                              shuffle=True,\n",
    "                                              batch_size=BATCH_SIZE,\n",
    "                                              class_mode='raw')\n",
    "  val_gen = test_img_gen.flow_from_dataframe(test_df,x_col='filenames',\n",
    "                                            y_col=['y_'+str(i) for i in range(2*N_CATEGORIES)],\n",
    "                                            shuffle=False,\n",
    "                                            batch_size=BATCH_SIZE,\n",
    "                                            class_mode='raw')\n",
    "  idx_for_tagged_testing = [i for i in range(len(X_test)) if \"all_tags_02\" in X_test[i]]\n",
    "  test_gen = test_img_gen.flow_from_dataframe(test_df.loc[idx_for_tagged_testing],x_col='filenames',\n",
    "                                            y_col=['y_'+str(i) for i in range(2*N_CATEGORIES)],\n",
    "                                            shuffle=False,\n",
    "                                            batch_size=BATCH_SIZE,\n",
    "                                            class_mode='raw')"
   ]
  },
  {
   "cell_type": "markdown",
   "metadata": {
    "id": "8mlVUmLAV6Qn"
   },
   "source": [
    "## Custom loss metrics, as parts of datasets are not fully tagged"
   ]
  },
  {
   "cell_type": "code",
   "execution_count": null,
   "metadata": {
    "id": "0c638OQgWmN-"
   },
   "outputs": [],
   "source": [
    "from tensorflow.keras.callbacks import TensorBoard,EarlyStopping,ReduceLROnPlateau,ModelCheckpoint\n",
    "from tensorflow.keras.metrics import BinaryAccuracy,binary_accuracy\n",
    "from tensorflow.keras.losses import BinaryCrossentropy, binary_crossentropy\n",
    "\n",
    "def weighted_binary_accuracy(y_true, y_pred, w,threshold=0.5):\n",
    "  y_pred = tf.convert_to_tensor(y_pred)\n",
    "  threshold = tf.cast(threshold, y_pred.dtype)\n",
    "  y_pred = tf.cast(y_pred > threshold, y_pred.dtype)\n",
    "  nom = tf.math.reduce_sum(tf.cast(tf.equal(y_true, y_pred), y_true.dtype)*w, axis=-1)\n",
    "  denom = tf.math.reduce_sum(w,axis=-1)\n",
    "  return tf.math.divide_no_nan(nom,denom)\n",
    "\n",
    "def get_acc_metric_per_output(n):\n",
    "  def acc(y_true,y_pred):\n",
    "    y_true,w = tf.split(y_true,num_or_size_splits=2,axis=1)\n",
    "    return weighted_binary_accuracy(y_true[:,n],y_pred[:,n],w=w[:,n],threshold=0.0)\n",
    "  acc.__name__ = 'acc_{}'.format(n)\n",
    "  return acc\n",
    "def bin_acc(y_true,y_pred):\n",
    "    y_true,w = tf.split(y_true,num_or_size_splits=2,axis=1)\n",
    "    return weighted_binary_accuracy(y_true[:,:],y_pred[:,:],w=w,threshold=0.0)\n",
    "\n",
    "def loss(y_true,y_pred):\n",
    "  y_true_,w = tf.split(y_true,num_or_size_splits=2,axis=1)\n",
    "  l = tf.nn.sigmoid_cross_entropy_with_logits(labels=y_true_,logits=y_pred)  \n",
    "  return tf.math.reduce_sum(l*w,axis=-1)/tf.math.reduce_sum(w,axis=-1)\n",
    "\n",
    "metrics = [bin_acc]+[get_acc_metric_per_output(i) for i in range(N_CATEGORIES)]\n",
    "reduce_lr = ReduceLROnPlateau(monitor='val_loss', factor=0.316, patience=2)\n",
    "earlyStop = EarlyStopping(patience=5,monitor='val_loss',restore_best_weights=True)\n",
    "checkpoint =ModelCheckpoint(CHECKPOINT_DIR+'.ckpt',save_weights_only=True,verbose=1,save_best_only=True,monitor='val_loss')\n",
    "callbacks = [checkpoint,reduce_lr,earlyStop]\n",
    "\n",
    "model.compile(loss=loss,optimizer = 'adam',metrics=metrics)"
   ]
  },
  {
   "cell_type": "markdown",
   "metadata": {},
   "source": [
    "## Pretraining with frozen weights"
   ]
  },
  {
   "cell_type": "code",
   "execution_count": null,
   "metadata": {
    "colab": {
     "base_uri": "https://localhost:8080/"
    },
    "executionInfo": {
     "elapsed": 1304610,
     "status": "ok",
     "timestamp": 1642777458966,
     "user": {
      "displayName": "Maks Wojtas",
      "photoUrl": "https://lh3.googleusercontent.com/a-/AOh14GiTCyEeMsETGANb159xHh6rPT0tjQEvbsrDmbW_Tg=s64",
      "userId": "11103437561791788771"
     },
     "user_tz": 0
    },
    "id": "Pc-caVJYbOJ0",
    "outputId": "df9f8cb5-6c78-4996-e160-f1bf124ebec2"
   },
   "outputs": [
    {
     "name": "stdout",
     "output_type": "stream",
     "text": [
      "Epoch 1/200\n",
      "26/26 [==============================] - ETA: 0s - loss: 0.4796 - bin_acc: 0.7980 - acc_0: 0.8139 - acc_1: 0.7178 - acc_2: 0.7626 - acc_3: 0.8179 - acc_4: 0.8267 - acc_5: 0.8470 - acc_6: 0.7620\n",
      "Epoch 00001: val_loss improved from inf to 0.92200, saving model to /content/drive/My Drive/checkpoints/ObjReco_EfficientNetB3_v2_0121-143553.ckpt\n",
      "26/26 [==============================] - 71s 2s/step - loss: 0.4796 - bin_acc: 0.7980 - acc_0: 0.8139 - acc_1: 0.7178 - acc_2: 0.7626 - acc_3: 0.8179 - acc_4: 0.8267 - acc_5: 0.8470 - acc_6: 0.7620 - val_loss: 0.9220 - val_bin_acc: 0.7772 - val_acc_0: 0.8681 - val_acc_1: 0.6693 - val_acc_2: 0.7765 - val_acc_3: 0.7969 - val_acc_4: 0.8569 - val_acc_5: 0.7645 - val_acc_6: 0.7161 - lr: 0.0010\n",
      "Epoch 2/200\n",
      "26/26 [==============================] - ETA: 0s - loss: 0.3551 - bin_acc: 0.8497 - acc_0: 0.8692 - acc_1: 0.7643 - acc_2: 0.8325 - acc_3: 0.8634 - acc_4: 0.8636 - acc_5: 0.9021 - acc_6: 0.8183\n",
      "Epoch 00002: val_loss improved from 0.92200 to 0.49898, saving model to /content/drive/My Drive/checkpoints/ObjReco_EfficientNetB3_v2_0121-143553.ckpt\n",
      "26/26 [==============================] - 44s 1s/step - loss: 0.3551 - bin_acc: 0.8497 - acc_0: 0.8692 - acc_1: 0.7643 - acc_2: 0.8325 - acc_3: 0.8634 - acc_4: 0.8636 - acc_5: 0.9021 - acc_6: 0.8183 - val_loss: 0.4990 - val_bin_acc: 0.8339 - val_acc_0: 0.8957 - val_acc_1: 0.8006 - val_acc_2: 0.7935 - val_acc_3: 0.8878 - val_acc_4: 0.8336 - val_acc_5: 0.8614 - val_acc_6: 0.7654 - lr: 0.0010\n",
      "Epoch 3/200\n",
      "26/26 [==============================] - ETA: 0s - loss: 0.3307 - bin_acc: 0.8613 - acc_0: 0.8840 - acc_1: 0.7838 - acc_2: 0.8321 - acc_3: 0.8717 - acc_4: 0.8810 - acc_5: 0.9167 - acc_6: 0.8301\n",
      "Epoch 00003: val_loss improved from 0.49898 to 0.36417, saving model to /content/drive/My Drive/checkpoints/ObjReco_EfficientNetB3_v2_0121-143553.ckpt\n",
      "26/26 [==============================] - 43s 1s/step - loss: 0.3307 - bin_acc: 0.8613 - acc_0: 0.8840 - acc_1: 0.7838 - acc_2: 0.8321 - acc_3: 0.8717 - acc_4: 0.8810 - acc_5: 0.9167 - acc_6: 0.8301 - val_loss: 0.3642 - val_bin_acc: 0.8631 - val_acc_0: 0.9052 - val_acc_1: 0.8057 - val_acc_2: 0.8482 - val_acc_3: 0.9038 - val_acc_4: 0.8822 - val_acc_5: 0.8871 - val_acc_6: 0.8095 - lr: 0.0010\n",
      "Epoch 4/200\n",
      "26/26 [==============================] - ETA: 0s - loss: 0.3018 - bin_acc: 0.8713 - acc_0: 0.8836 - acc_1: 0.8038 - acc_2: 0.8553 - acc_3: 0.8775 - acc_4: 0.8805 - acc_5: 0.9245 - acc_6: 0.8439\n",
      "Epoch 00004: val_loss improved from 0.36417 to 0.31796, saving model to /content/drive/My Drive/checkpoints/ObjReco_EfficientNetB3_v2_0121-143553.ckpt\n",
      "26/26 [==============================] - 50s 1s/step - loss: 0.3018 - bin_acc: 0.8713 - acc_0: 0.8836 - acc_1: 0.8038 - acc_2: 0.8553 - acc_3: 0.8775 - acc_4: 0.8805 - acc_5: 0.9245 - acc_6: 0.8439 - val_loss: 0.3180 - val_bin_acc: 0.8698 - val_acc_0: 0.9156 - val_acc_1: 0.8206 - val_acc_2: 0.8414 - val_acc_3: 0.9014 - val_acc_4: 0.8888 - val_acc_5: 0.8937 - val_acc_6: 0.8343 - lr: 0.0010\n",
      "Epoch 5/200\n",
      "26/26 [==============================] - ETA: 0s - loss: 0.2834 - bin_acc: 0.8795 - acc_0: 0.8998 - acc_1: 0.8122 - acc_2: 0.8641 - acc_3: 0.8845 - acc_4: 0.8893 - acc_5: 0.9251 - acc_6: 0.8494\n",
      "Epoch 00005: val_loss improved from 0.31796 to 0.27745, saving model to /content/drive/My Drive/checkpoints/ObjReco_EfficientNetB3_v2_0121-143553.ckpt\n",
      "26/26 [==============================] - 49s 1s/step - loss: 0.2834 - bin_acc: 0.8795 - acc_0: 0.8998 - acc_1: 0.8122 - acc_2: 0.8641 - acc_3: 0.8845 - acc_4: 0.8893 - acc_5: 0.9251 - acc_6: 0.8494 - val_loss: 0.2775 - val_bin_acc: 0.8833 - val_acc_0: 0.9121 - val_acc_1: 0.7839 - val_acc_2: 0.8781 - val_acc_3: 0.9030 - val_acc_4: 0.9012 - val_acc_5: 0.9154 - val_acc_6: 0.8640 - lr: 0.0010\n",
      "Epoch 6/200\n",
      "26/26 [==============================] - ETA: 0s - loss: 0.2714 - bin_acc: 0.8836 - acc_0: 0.8986 - acc_1: 0.8154 - acc_2: 0.8802 - acc_3: 0.8873 - acc_4: 0.9001 - acc_5: 0.9260 - acc_6: 0.8514\n",
      "Epoch 00006: val_loss improved from 0.27745 to 0.27601, saving model to /content/drive/My Drive/checkpoints/ObjReco_EfficientNetB3_v2_0121-143553.ckpt\n",
      "26/26 [==============================] - 47s 1s/step - loss: 0.2714 - bin_acc: 0.8836 - acc_0: 0.8986 - acc_1: 0.8154 - acc_2: 0.8802 - acc_3: 0.8873 - acc_4: 0.9001 - acc_5: 0.9260 - acc_6: 0.8514 - val_loss: 0.2760 - val_bin_acc: 0.8877 - val_acc_0: 0.9249 - val_acc_1: 0.8186 - val_acc_2: 0.8908 - val_acc_3: 0.9127 - val_acc_4: 0.9032 - val_acc_5: 0.9283 - val_acc_6: 0.8244 - lr: 0.0010\n",
      "Epoch 7/200\n",
      "26/26 [==============================] - ETA: 0s - loss: 0.2724 - bin_acc: 0.8829 - acc_0: 0.8972 - acc_1: 0.8227 - acc_2: 0.8791 - acc_3: 0.8855 - acc_4: 0.8975 - acc_5: 0.9323 - acc_6: 0.8409\n",
      "Epoch 00007: val_loss improved from 0.27601 to 0.26817, saving model to /content/drive/My Drive/checkpoints/ObjReco_EfficientNetB3_v2_0121-143553.ckpt\n",
      "26/26 [==============================] - 46s 1s/step - loss: 0.2724 - bin_acc: 0.8829 - acc_0: 0.8972 - acc_1: 0.8227 - acc_2: 0.8791 - acc_3: 0.8855 - acc_4: 0.8975 - acc_5: 0.9323 - acc_6: 0.8409 - val_loss: 0.2682 - val_bin_acc: 0.8912 - val_acc_0: 0.9298 - val_acc_1: 0.8257 - val_acc_2: 0.8941 - val_acc_3: 0.9144 - val_acc_4: 0.9028 - val_acc_5: 0.9265 - val_acc_6: 0.8337 - lr: 0.0010\n",
      "Epoch 8/200\n",
      "26/26 [==============================] - ETA: 0s - loss: 0.2653 - bin_acc: 0.8895 - acc_0: 0.9151 - acc_1: 0.8293 - acc_2: 0.8684 - acc_3: 0.8966 - acc_4: 0.8991 - acc_5: 0.9345 - acc_6: 0.8554\n",
      "Epoch 00008: val_loss improved from 0.26817 to 0.26584, saving model to /content/drive/My Drive/checkpoints/ObjReco_EfficientNetB3_v2_0121-143553.ckpt\n",
      "26/26 [==============================] - 44s 1s/step - loss: 0.2653 - bin_acc: 0.8895 - acc_0: 0.9151 - acc_1: 0.8293 - acc_2: 0.8684 - acc_3: 0.8966 - acc_4: 0.8991 - acc_5: 0.9345 - acc_6: 0.8554 - val_loss: 0.2658 - val_bin_acc: 0.8948 - val_acc_0: 0.9324 - val_acc_1: 0.8339 - val_acc_2: 0.8765 - val_acc_3: 0.9113 - val_acc_4: 0.8991 - val_acc_5: 0.9381 - val_acc_6: 0.8619 - lr: 0.0010\n",
      "Epoch 9/200\n",
      "26/26 [==============================] - ETA: 0s - loss: 0.2472 - bin_acc: 0.8953 - acc_0: 0.9171 - acc_1: 0.8393 - acc_2: 0.8836 - acc_3: 0.8992 - acc_4: 0.9018 - acc_5: 0.9340 - acc_6: 0.8658\n",
      "Epoch 00009: val_loss improved from 0.26584 to 0.25552, saving model to /content/drive/My Drive/checkpoints/ObjReco_EfficientNetB3_v2_0121-143553.ckpt\n",
      "26/26 [==============================] - 47s 1s/step - loss: 0.2472 - bin_acc: 0.8953 - acc_0: 0.9171 - acc_1: 0.8393 - acc_2: 0.8836 - acc_3: 0.8992 - acc_4: 0.9018 - acc_5: 0.9340 - acc_6: 0.8658 - val_loss: 0.2555 - val_bin_acc: 0.8981 - val_acc_0: 0.9276 - val_acc_1: 0.8464 - val_acc_2: 0.8723 - val_acc_3: 0.9099 - val_acc_4: 0.9096 - val_acc_5: 0.9244 - val_acc_6: 0.8761 - lr: 0.0010\n",
      "Epoch 10/200\n",
      "26/26 [==============================] - ETA: 0s - loss: 0.2470 - bin_acc: 0.8943 - acc_0: 0.9172 - acc_1: 0.8387 - acc_2: 0.8776 - acc_3: 0.9020 - acc_4: 0.8991 - acc_5: 0.9380 - acc_6: 0.8598\n",
      "Epoch 00010: val_loss improved from 0.25552 to 0.24995, saving model to /content/drive/My Drive/checkpoints/ObjReco_EfficientNetB3_v2_0121-143553.ckpt\n",
      "26/26 [==============================] - 45s 1s/step - loss: 0.2470 - bin_acc: 0.8943 - acc_0: 0.9172 - acc_1: 0.8387 - acc_2: 0.8776 - acc_3: 0.9020 - acc_4: 0.8991 - acc_5: 0.9380 - acc_6: 0.8598 - val_loss: 0.2500 - val_bin_acc: 0.9003 - val_acc_0: 0.9286 - val_acc_1: 0.8470 - val_acc_2: 0.8852 - val_acc_3: 0.9164 - val_acc_4: 0.9004 - val_acc_5: 0.9321 - val_acc_6: 0.8690 - lr: 0.0010\n",
      "Epoch 11/200\n",
      "26/26 [==============================] - ETA: 0s - loss: 0.2342 - bin_acc: 0.8998 - acc_0: 0.9192 - acc_1: 0.8434 - acc_2: 0.8967 - acc_3: 0.9039 - acc_4: 0.9052 - acc_5: 0.9365 - acc_6: 0.8737\n",
      "Epoch 00011: val_loss did not improve from 0.24995\n",
      "26/26 [==============================] - 44s 1s/step - loss: 0.2342 - bin_acc: 0.8998 - acc_0: 0.9192 - acc_1: 0.8434 - acc_2: 0.8967 - acc_3: 0.9039 - acc_4: 0.9052 - acc_5: 0.9365 - acc_6: 0.8737 - val_loss: 0.2505 - val_bin_acc: 0.8989 - val_acc_0: 0.9370 - val_acc_1: 0.8427 - val_acc_2: 0.8824 - val_acc_3: 0.9186 - val_acc_4: 0.8963 - val_acc_5: 0.9235 - val_acc_6: 0.8767 - lr: 0.0010\n",
      "Epoch 12/200\n",
      "26/26 [==============================] - ETA: 0s - loss: 0.2367 - bin_acc: 0.8977 - acc_0: 0.9130 - acc_1: 0.8484 - acc_2: 0.8800 - acc_3: 0.9071 - acc_4: 0.9052 - acc_5: 0.9347 - acc_6: 0.8677\n",
      "Epoch 00012: val_loss improved from 0.24995 to 0.24411, saving model to /content/drive/My Drive/checkpoints/ObjReco_EfficientNetB3_v2_0121-143553.ckpt\n",
      "26/26 [==============================] - 48s 1s/step - loss: 0.2367 - bin_acc: 0.8977 - acc_0: 0.9130 - acc_1: 0.8484 - acc_2: 0.8800 - acc_3: 0.9071 - acc_4: 0.9052 - acc_5: 0.9347 - acc_6: 0.8677 - val_loss: 0.2441 - val_bin_acc: 0.9024 - val_acc_0: 0.9351 - val_acc_1: 0.8396 - val_acc_2: 0.8955 - val_acc_3: 0.9101 - val_acc_4: 0.9084 - val_acc_5: 0.9326 - val_acc_6: 0.8831 - lr: 0.0010\n",
      "Epoch 13/200\n",
      "26/26 [==============================] - ETA: 0s - loss: 0.2316 - bin_acc: 0.9021 - acc_0: 0.9169 - acc_1: 0.8451 - acc_2: 0.8993 - acc_3: 0.9094 - acc_4: 0.9183 - acc_5: 0.9398 - acc_6: 0.8617\n",
      "Epoch 00013: val_loss did not improve from 0.24411\n",
      "26/26 [==============================] - 42s 1s/step - loss: 0.2316 - bin_acc: 0.9021 - acc_0: 0.9169 - acc_1: 0.8451 - acc_2: 0.8993 - acc_3: 0.9094 - acc_4: 0.9183 - acc_5: 0.9398 - acc_6: 0.8617 - val_loss: 0.2470 - val_bin_acc: 0.9017 - val_acc_0: 0.9304 - val_acc_1: 0.8454 - val_acc_2: 0.8975 - val_acc_3: 0.9168 - val_acc_4: 0.9074 - val_acc_5: 0.9287 - val_acc_6: 0.8648 - lr: 0.0010\n",
      "Epoch 14/200\n",
      "26/26 [==============================] - ETA: 0s - loss: 0.2303 - bin_acc: 0.9030 - acc_0: 0.9236 - acc_1: 0.8507 - acc_2: 0.8923 - acc_3: 0.9078 - acc_4: 0.9143 - acc_5: 0.9367 - acc_6: 0.8712\n",
      "Epoch 00014: val_loss improved from 0.24411 to 0.24126, saving model to /content/drive/My Drive/checkpoints/ObjReco_EfficientNetB3_v2_0121-143553.ckpt\n",
      "26/26 [==============================] - 47s 1s/step - loss: 0.2303 - bin_acc: 0.9030 - acc_0: 0.9236 - acc_1: 0.8507 - acc_2: 0.8923 - acc_3: 0.9078 - acc_4: 0.9143 - acc_5: 0.9367 - acc_6: 0.8712 - val_loss: 0.2413 - val_bin_acc: 0.9004 - val_acc_0: 0.9368 - val_acc_1: 0.8477 - val_acc_2: 0.8975 - val_acc_3: 0.9184 - val_acc_4: 0.9046 - val_acc_5: 0.9166 - val_acc_6: 0.8571 - lr: 0.0010\n",
      "Epoch 15/200\n",
      "26/26 [==============================] - ETA: 0s - loss: 0.2192 - bin_acc: 0.9087 - acc_0: 0.9303 - acc_1: 0.8568 - acc_2: 0.9069 - acc_3: 0.9120 - acc_4: 0.9090 - acc_5: 0.9446 - acc_6: 0.8779\n",
      "Epoch 00015: val_loss did not improve from 0.24126\n",
      "26/26 [==============================] - 45s 1s/step - loss: 0.2192 - bin_acc: 0.9087 - acc_0: 0.9303 - acc_1: 0.8568 - acc_2: 0.9069 - acc_3: 0.9120 - acc_4: 0.9090 - acc_5: 0.9446 - acc_6: 0.8779 - val_loss: 0.2495 - val_bin_acc: 0.9019 - val_acc_0: 0.9307 - val_acc_1: 0.8377 - val_acc_2: 0.8961 - val_acc_3: 0.9222 - val_acc_4: 0.9031 - val_acc_5: 0.9313 - val_acc_6: 0.8681 - lr: 0.0010\n",
      "Epoch 16/200\n",
      "26/26 [==============================] - ETA: 0s - loss: 0.2124 - bin_acc: 0.9089 - acc_0: 0.9280 - acc_1: 0.8502 - acc_2: 0.9058 - acc_3: 0.9162 - acc_4: 0.9149 - acc_5: 0.9472 - acc_6: 0.8765\n",
      "Epoch 00016: val_loss did not improve from 0.24126\n",
      "26/26 [==============================] - 46s 1s/step - loss: 0.2124 - bin_acc: 0.9089 - acc_0: 0.9280 - acc_1: 0.8502 - acc_2: 0.9058 - acc_3: 0.9162 - acc_4: 0.9149 - acc_5: 0.9472 - acc_6: 0.8765 - val_loss: 0.2466 - val_bin_acc: 0.9012 - val_acc_0: 0.9309 - val_acc_1: 0.8408 - val_acc_2: 0.8842 - val_acc_3: 0.9295 - val_acc_4: 0.8962 - val_acc_5: 0.9266 - val_acc_6: 0.8783 - lr: 0.0010\n",
      "Epoch 17/200\n",
      "26/26 [==============================] - ETA: 0s - loss: 0.2076 - bin_acc: 0.9150 - acc_0: 0.9330 - acc_1: 0.8623 - acc_2: 0.9202 - acc_3: 0.9195 - acc_4: 0.9217 - acc_5: 0.9471 - acc_6: 0.8806\n",
      "Epoch 00017: val_loss did not improve from 0.24126\n",
      "26/26 [==============================] - 41s 1s/step - loss: 0.2076 - bin_acc: 0.9150 - acc_0: 0.9330 - acc_1: 0.8623 - acc_2: 0.9202 - acc_3: 0.9195 - acc_4: 0.9217 - acc_5: 0.9471 - acc_6: 0.8806 - val_loss: 0.2424 - val_bin_acc: 0.9017 - val_acc_0: 0.9306 - val_acc_1: 0.8475 - val_acc_2: 0.9005 - val_acc_3: 0.9200 - val_acc_4: 0.8990 - val_acc_5: 0.9231 - val_acc_6: 0.8742 - lr: 3.1600e-04\n",
      "Epoch 18/200\n",
      "26/26 [==============================] - ETA: 0s - loss: 0.2011 - bin_acc: 0.9169 - acc_0: 0.9338 - acc_1: 0.8707 - acc_2: 0.9186 - acc_3: 0.9237 - acc_4: 0.9254 - acc_5: 0.9442 - acc_6: 0.8805\n",
      "Epoch 00018: val_loss improved from 0.24126 to 0.23499, saving model to /content/drive/My Drive/checkpoints/ObjReco_EfficientNetB3_v2_0121-143553.ckpt\n",
      "26/26 [==============================] - 47s 1s/step - loss: 0.2011 - bin_acc: 0.9169 - acc_0: 0.9338 - acc_1: 0.8707 - acc_2: 0.9186 - acc_3: 0.9237 - acc_4: 0.9254 - acc_5: 0.9442 - acc_6: 0.8805 - val_loss: 0.2350 - val_bin_acc: 0.9054 - val_acc_0: 0.9335 - val_acc_1: 0.8413 - val_acc_2: 0.8932 - val_acc_3: 0.9278 - val_acc_4: 0.9042 - val_acc_5: 0.9309 - val_acc_6: 0.8847 - lr: 3.1600e-04\n",
      "Epoch 19/200\n",
      "26/26 [==============================] - ETA: 0s - loss: 0.1975 - bin_acc: 0.9171 - acc_0: 0.9358 - acc_1: 0.8697 - acc_2: 0.9194 - acc_3: 0.9152 - acc_4: 0.9241 - acc_5: 0.9526 - acc_6: 0.8819\n",
      "Epoch 00019: val_loss did not improve from 0.23499\n",
      "26/26 [==============================] - 45s 1s/step - loss: 0.1975 - bin_acc: 0.9171 - acc_0: 0.9358 - acc_1: 0.8697 - acc_2: 0.9194 - acc_3: 0.9152 - acc_4: 0.9241 - acc_5: 0.9526 - acc_6: 0.8819 - val_loss: 0.2369 - val_bin_acc: 0.9052 - val_acc_0: 0.9324 - val_acc_1: 0.8489 - val_acc_2: 0.8963 - val_acc_3: 0.9268 - val_acc_4: 0.9044 - val_acc_5: 0.9225 - val_acc_6: 0.8836 - lr: 3.1600e-04\n",
      "Epoch 20/200\n",
      "26/26 [==============================] - ETA: 0s - loss: 0.1934 - bin_acc: 0.9194 - acc_0: 0.9375 - acc_1: 0.8722 - acc_2: 0.9147 - acc_3: 0.9233 - acc_4: 0.9245 - acc_5: 0.9474 - acc_6: 0.8969\n",
      "Epoch 00020: val_loss did not improve from 0.23499\n",
      "26/26 [==============================] - 45s 1s/step - loss: 0.1934 - bin_acc: 0.9194 - acc_0: 0.9375 - acc_1: 0.8722 - acc_2: 0.9147 - acc_3: 0.9233 - acc_4: 0.9245 - acc_5: 0.9474 - acc_6: 0.8969 - val_loss: 0.2379 - val_bin_acc: 0.9030 - val_acc_0: 0.9327 - val_acc_1: 0.8515 - val_acc_2: 0.8914 - val_acc_3: 0.9255 - val_acc_4: 0.9025 - val_acc_5: 0.9198 - val_acc_6: 0.8759 - lr: 3.1600e-04\n",
      "Epoch 21/200\n",
      "26/26 [==============================] - ETA: 0s - loss: 0.1906 - bin_acc: 0.9191 - acc_0: 0.9398 - acc_1: 0.8777 - acc_2: 0.9132 - acc_3: 0.9230 - acc_4: 0.9270 - acc_5: 0.9485 - acc_6: 0.8832\n",
      "Epoch 00021: val_loss did not improve from 0.23499\n",
      "26/26 [==============================] - 47s 1s/step - loss: 0.1906 - bin_acc: 0.9191 - acc_0: 0.9398 - acc_1: 0.8777 - acc_2: 0.9132 - acc_3: 0.9230 - acc_4: 0.9270 - acc_5: 0.9485 - acc_6: 0.8832 - val_loss: 0.2354 - val_bin_acc: 0.9033 - val_acc_0: 0.9351 - val_acc_1: 0.8463 - val_acc_2: 0.8927 - val_acc_3: 0.9259 - val_acc_4: 0.9040 - val_acc_5: 0.9226 - val_acc_6: 0.8736 - lr: 9.9856e-05\n",
      "Epoch 22/200\n",
      "26/26 [==============================] - ETA: 0s - loss: 0.1959 - bin_acc: 0.9199 - acc_0: 0.9354 - acc_1: 0.8733 - acc_2: 0.9203 - acc_3: 0.9167 - acc_4: 0.9286 - acc_5: 0.9535 - acc_6: 0.8893\n",
      "Epoch 00022: val_loss did not improve from 0.23499\n",
      "26/26 [==============================] - 47s 1s/step - loss: 0.1959 - bin_acc: 0.9199 - acc_0: 0.9354 - acc_1: 0.8733 - acc_2: 0.9203 - acc_3: 0.9167 - acc_4: 0.9286 - acc_5: 0.9535 - acc_6: 0.8893 - val_loss: 0.2362 - val_bin_acc: 0.9033 - val_acc_0: 0.9345 - val_acc_1: 0.8492 - val_acc_2: 0.8928 - val_acc_3: 0.9251 - val_acc_4: 0.9007 - val_acc_5: 0.9235 - val_acc_6: 0.8779 - lr: 9.9856e-05\n",
      "Epoch 23/200\n",
      "26/26 [==============================] - ETA: 0s - loss: 0.1909 - bin_acc: 0.9207 - acc_0: 0.9377 - acc_1: 0.8777 - acc_2: 0.9258 - acc_3: 0.9225 - acc_4: 0.9234 - acc_5: 0.9540 - acc_6: 0.8872\n",
      "Epoch 00023: val_loss did not improve from 0.23499\n",
      "26/26 [==============================] - 47s 1s/step - loss: 0.1909 - bin_acc: 0.9207 - acc_0: 0.9377 - acc_1: 0.8777 - acc_2: 0.9258 - acc_3: 0.9225 - acc_4: 0.9234 - acc_5: 0.9540 - acc_6: 0.8872 - val_loss: 0.2353 - val_bin_acc: 0.9040 - val_acc_0: 0.9373 - val_acc_1: 0.8457 - val_acc_2: 0.8945 - val_acc_3: 0.9251 - val_acc_4: 0.9019 - val_acc_5: 0.9272 - val_acc_6: 0.8772 - lr: 3.1554e-05\n"
     ]
    },
    {
     "data": {
      "text/plain": [
       "<keras.callbacks.History at 0x7fe2f142d190>"
      ]
     },
     "execution_count": 30,
     "metadata": {},
     "output_type": "execute_result"
    }
   ],
   "source": [
    "model.fit(train_gen,\n",
    "          steps_per_epoch = train_steps,\n",
    "          epochs=200,\n",
    "          validation_data=val_gen,\n",
    "          validation_steps=val_steps,\n",
    "          workers=8,\n",
    "          callbacks=callbacks,\n",
    "          use_multiprocessing=True)\n",
    "#Epoch 00063: val_binary_accuracy did not improve from 0.91257"
   ]
  },
  {
   "cell_type": "code",
   "execution_count": null,
   "metadata": {
    "id": "PLWilZm9h9Y9"
   },
   "outputs": [],
   "source": [
    "model.save_weights(CHECKPOINT_DIR+\".h5\")"
   ]
  },
  {
   "cell_type": "code",
   "execution_count": null,
   "metadata": {
    "id": "68c785xf_q-b"
   },
   "outputs": [],
   "source": [
    "model.load_weights(DRIVE_DIR+'/checkpoints/'+\"ObjReco_xception_0_1209-154845.h5\")"
   ]
  },
  {
   "cell_type": "markdown",
   "metadata": {},
   "source": [
    "## Unfreeze backbone weights and fine-tune"
   ]
  },
  {
   "cell_type": "code",
   "execution_count": null,
   "metadata": {
    "id": "ExDieel858ds"
   },
   "outputs": [],
   "source": [
    "for layer_idx,layer in enumerate(model.layers):\n",
    "  if not isinstance(layer, keras.layers.BatchNormalization) \\\n",
    "      and not(layer.name.startswith(\"block1\")) \\\n",
    "      and not(layer.name.startswith(\"block2\")) \\\n",
    "      and not(layer.name.startswith(\"block3\")) \\\n",
    "      and layer_idx>15:\n",
    "    layer.trainable = True\n",
    "  else:\n",
    "    layer.trainable = False\n",
    "\n",
    "NEW_BATCH_SIZE = 96"
   ]
  },
  {
   "cell_type": "code",
   "execution_count": null,
   "metadata": {
    "colab": {
     "base_uri": "https://localhost:8080/"
    },
    "executionInfo": {
     "elapsed": 318,
     "status": "ok",
     "timestamp": 1642777508826,
     "user": {
      "displayName": "Maks Wojtas",
      "photoUrl": "https://lh3.googleusercontent.com/a-/AOh14GiTCyEeMsETGANb159xHh6rPT0tjQEvbsrDmbW_Tg=s64",
      "userId": "11103437561791788771"
     },
     "user_tz": 0
    },
    "id": "2ZJhLx7U3sxd",
    "outputId": "51973691-3feb-4e40-b08d-ca4f2d1bfc5d"
   },
   "outputs": [
    {
     "name": "stdout",
     "output_type": "stream",
     "text": [
      "/content/drive/My Drive/checkpoints/ObjReco_EfficientNetB3_2_0121-143553Unfrz\n"
     ]
    }
   ],
   "source": [
    "CHECKPOINT_DIR = DRIVE_DIR+'/checkpoints/ObjReco'+\"_\"+BACKBONE+\"_\"+str(ARCH_VERSION)+\"_\"+date_time+\"Unfrz\"\n",
    "print(CHECKPOINT_DIR)"
   ]
  },
  {
   "cell_type": "code",
   "execution_count": null,
   "metadata": {
    "id": "5JxGAGPf2IYY"
   },
   "outputs": [],
   "source": [
    "new_val_steps = ceil(len(X_test)/NEW_BATCH_SIZE)\n",
    "new_train_steps = ceil(len(X_train)/NEW_BATCH_SIZE)\n",
    "del train_gen\n",
    "del val_gen\n",
    "\n",
    "if LOAD_TO_MEMORY is True:\n",
    "  train_gen = train_img_gen.flow(x=X_train,y=y_w_train,shuffle=True,batch_size=NEW_BATCH_SIZE)\n",
    "  val_gen = test_img_gen.flow(x=X_test,y=y_w_test,shuffle=False,batch_size=NEW_BATCH_SIZE)\n",
    "else:\n",
    "  train_gen = train_img_gen.flow_from_dataframe(train_df,x_col='filenames',\n",
    "                                              y_col=['y_'+str(i) for i in range(2*N_CATEGORIES)],\n",
    "                                              shuffle=True,\n",
    "                                              batch_size=NEW_BATCH_SIZE,\n",
    "                                              class_mode='raw')\n",
    "  val_gen = test_img_gen.flow_from_dataframe(test_df,x_col='filenames',\n",
    "                                            y_col=['y_'+str(i) for i in range(2*N_CATEGORIES)],\n",
    "                                            shuffle=False,\n",
    "                                            batch_size=NEW_BATCH_SIZE,\n",
    "                                            class_mode='raw')\n",
    "\n"
   ]
  },
  {
   "cell_type": "code",
   "execution_count": null,
   "metadata": {
    "id": "1AnAPQQN5llM"
   },
   "outputs": [],
   "source": [
    "from tensorflow.keras.callbacks import TensorBoard,EarlyStopping,ReduceLROnPlateau,ModelCheckpoint\n",
    "from tensorflow.keras.metrics import BinaryAccuracy,binary_accuracy\n",
    "from tensorflow.keras.losses import BinaryCrossentropy\n",
    "\n",
    "metrics = [bin_acc]+[get_acc_metric_per_output(i) for i in range(N_CATEGORIES)]\n",
    "reduce_lr = ReduceLROnPlateau(monitor='val_loss', factor=0.316, patience=2)\n",
    "earlyStop = EarlyStopping(patience=5,monitor='val_loss',restore_best_weights=True)\n",
    "checkpoint =ModelCheckpoint(CHECKPOINT_DIR+'.ckpt',save_weights_only=True,verbose=1,save_best_only=True,monitor='val_loss')\n",
    "callbacks = [checkpoint,reduce_lr,earlyStop]\n",
    "\n",
    "model.compile(loss=loss,optimizer = tf.keras.optimizers.Adam(learning_rate=2e-6) ,metrics=metrics)"
   ]
  },
  {
   "cell_type": "code",
   "execution_count": null,
   "metadata": {
    "colab": {
     "base_uri": "https://localhost:8080/"
    },
    "executionInfo": {
     "elapsed": 2093843,
     "status": "ok",
     "timestamp": 1642779646479,
     "user": {
      "displayName": "Maks Wojtas",
      "photoUrl": "https://lh3.googleusercontent.com/a-/AOh14GiTCyEeMsETGANb159xHh6rPT0tjQEvbsrDmbW_Tg=s64",
      "userId": "11103437561791788771"
     },
     "user_tz": 0
    },
    "id": "BqIVGaJYfZ4t",
    "outputId": "71d25c8d-8db7-4922-8387-9fc996ee3503"
   },
   "outputs": [
    {
     "name": "stdout",
     "output_type": "stream",
     "text": [
      "Epoch 1/200\n",
      "52/52 [==============================] - ETA: 0s - loss: 0.1889 - bin_acc: 0.9200 - acc_0: 0.9353 - acc_1: 0.8616 - acc_2: 0.9138 - acc_3: 0.9273 - acc_4: 0.9269 - acc_5: 0.9557 - acc_6: 0.8944\n",
      "Epoch 00001: val_loss improved from inf to 0.23323, saving model to /content/drive/My Drive/checkpoints/ObjReco_EfficientNetB3_2_0121-143553Unfrz.ckpt\n",
      "52/52 [==============================] - 64s 838ms/step - loss: 0.1889 - bin_acc: 0.9200 - acc_0: 0.9353 - acc_1: 0.8616 - acc_2: 0.9138 - acc_3: 0.9273 - acc_4: 0.9269 - acc_5: 0.9557 - acc_6: 0.8944 - val_loss: 0.2332 - val_bin_acc: 0.9073 - val_acc_0: 0.9419 - val_acc_1: 0.8647 - val_acc_2: 0.8941 - val_acc_3: 0.9163 - val_acc_4: 0.8915 - val_acc_5: 0.9238 - val_acc_6: 0.8830 - lr: 2.0000e-06\n",
      "Epoch 2/200\n",
      "52/52 [==============================] - ETA: 0s - loss: 0.1858 - bin_acc: 0.9231 - acc_0: 0.9388 - acc_1: 0.8759 - acc_2: 0.9302 - acc_3: 0.9317 - acc_4: 0.9254 - acc_5: 0.9519 - acc_6: 0.8900\n",
      "Epoch 00002: val_loss improved from 0.23323 to 0.23201, saving model to /content/drive/My Drive/checkpoints/ObjReco_EfficientNetB3_2_0121-143553Unfrz.ckpt\n",
      "52/52 [==============================] - 43s 712ms/step - loss: 0.1858 - bin_acc: 0.9231 - acc_0: 0.9388 - acc_1: 0.8759 - acc_2: 0.9302 - acc_3: 0.9317 - acc_4: 0.9254 - acc_5: 0.9519 - acc_6: 0.8900 - val_loss: 0.2320 - val_bin_acc: 0.9077 - val_acc_0: 0.9427 - val_acc_1: 0.8670 - val_acc_2: 0.8908 - val_acc_3: 0.9151 - val_acc_4: 0.8927 - val_acc_5: 0.9241 - val_acc_6: 0.8843 - lr: 2.0000e-06\n",
      "Epoch 3/200\n",
      "52/52 [==============================] - ETA: 0s - loss: 0.1812 - bin_acc: 0.9252 - acc_0: 0.9397 - acc_1: 0.8818 - acc_2: 0.9278 - acc_3: 0.9312 - acc_4: 0.9253 - acc_5: 0.9547 - acc_6: 0.8975\n",
      "Epoch 00003: val_loss improved from 0.23201 to 0.23026, saving model to /content/drive/My Drive/checkpoints/ObjReco_EfficientNetB3_2_0121-143553Unfrz.ckpt\n",
      "52/52 [==============================] - 44s 727ms/step - loss: 0.1812 - bin_acc: 0.9252 - acc_0: 0.9397 - acc_1: 0.8818 - acc_2: 0.9278 - acc_3: 0.9312 - acc_4: 0.9253 - acc_5: 0.9547 - acc_6: 0.8975 - val_loss: 0.2303 - val_bin_acc: 0.9095 - val_acc_0: 0.9419 - val_acc_1: 0.8670 - val_acc_2: 0.8944 - val_acc_3: 0.9174 - val_acc_4: 0.8936 - val_acc_5: 0.9265 - val_acc_6: 0.8885 - lr: 2.0000e-06\n",
      "Epoch 4/200\n",
      "52/52 [==============================] - ETA: 0s - loss: 0.1851 - bin_acc: 0.9241 - acc_0: 0.9382 - acc_1: 0.8755 - acc_2: 0.9276 - acc_3: 0.9356 - acc_4: 0.9297 - acc_5: 0.9555 - acc_6: 0.8874\n",
      "Epoch 00004: val_loss improved from 0.23026 to 0.22973, saving model to /content/drive/My Drive/checkpoints/ObjReco_EfficientNetB3_2_0121-143553Unfrz.ckpt\n",
      "52/52 [==============================] - 43s 723ms/step - loss: 0.1851 - bin_acc: 0.9241 - acc_0: 0.9382 - acc_1: 0.8755 - acc_2: 0.9276 - acc_3: 0.9356 - acc_4: 0.9297 - acc_5: 0.9555 - acc_6: 0.8874 - val_loss: 0.2297 - val_bin_acc: 0.9114 - val_acc_0: 0.9426 - val_acc_1: 0.8689 - val_acc_2: 0.8973 - val_acc_3: 0.9163 - val_acc_4: 0.8977 - val_acc_5: 0.9293 - val_acc_6: 0.8900 - lr: 2.0000e-06\n",
      "Epoch 5/200\n",
      "52/52 [==============================] - ETA: 0s - loss: 0.1780 - bin_acc: 0.9260 - acc_0: 0.9426 - acc_1: 0.8829 - acc_2: 0.9235 - acc_3: 0.9344 - acc_4: 0.9284 - acc_5: 0.9546 - acc_6: 0.8970\n",
      "Epoch 00005: val_loss improved from 0.22973 to 0.22849, saving model to /content/drive/My Drive/checkpoints/ObjReco_EfficientNetB3_2_0121-143553Unfrz.ckpt\n",
      "52/52 [==============================] - 44s 740ms/step - loss: 0.1780 - bin_acc: 0.9260 - acc_0: 0.9426 - acc_1: 0.8829 - acc_2: 0.9235 - acc_3: 0.9344 - acc_4: 0.9284 - acc_5: 0.9546 - acc_6: 0.8970 - val_loss: 0.2285 - val_bin_acc: 0.9108 - val_acc_0: 0.9437 - val_acc_1: 0.8696 - val_acc_2: 0.8967 - val_acc_3: 0.9222 - val_acc_4: 0.8973 - val_acc_5: 0.9265 - val_acc_6: 0.8871 - lr: 2.0000e-06\n",
      "Epoch 6/200\n",
      "52/52 [==============================] - ETA: 0s - loss: 0.1767 - bin_acc: 0.9273 - acc_0: 0.9474 - acc_1: 0.8847 - acc_2: 0.9214 - acc_3: 0.9371 - acc_4: 0.9308 - acc_5: 0.9562 - acc_6: 0.8934\n",
      "Epoch 00006: val_loss improved from 0.22849 to 0.22572, saving model to /content/drive/My Drive/checkpoints/ObjReco_EfficientNetB3_2_0121-143553Unfrz.ckpt\n",
      "52/52 [==============================] - 45s 739ms/step - loss: 0.1767 - bin_acc: 0.9273 - acc_0: 0.9474 - acc_1: 0.8847 - acc_2: 0.9214 - acc_3: 0.9371 - acc_4: 0.9308 - acc_5: 0.9562 - acc_6: 0.8934 - val_loss: 0.2257 - val_bin_acc: 0.9102 - val_acc_0: 0.9412 - val_acc_1: 0.8689 - val_acc_2: 0.8962 - val_acc_3: 0.9237 - val_acc_4: 0.8936 - val_acc_5: 0.9272 - val_acc_6: 0.8886 - lr: 2.0000e-06\n",
      "Epoch 7/200\n",
      "52/52 [==============================] - ETA: 0s - loss: 0.1738 - bin_acc: 0.9274 - acc_0: 0.9462 - acc_1: 0.8873 - acc_2: 0.9293 - acc_3: 0.9301 - acc_4: 0.9314 - acc_5: 0.9548 - acc_6: 0.8936\n",
      "Epoch 00007: val_loss did not improve from 0.22572\n",
      "52/52 [==============================] - 43s 698ms/step - loss: 0.1738 - bin_acc: 0.9274 - acc_0: 0.9462 - acc_1: 0.8873 - acc_2: 0.9293 - acc_3: 0.9301 - acc_4: 0.9314 - acc_5: 0.9548 - acc_6: 0.8936 - val_loss: 0.2262 - val_bin_acc: 0.9095 - val_acc_0: 0.9391 - val_acc_1: 0.8682 - val_acc_2: 0.8962 - val_acc_3: 0.9229 - val_acc_4: 0.8952 - val_acc_5: 0.9272 - val_acc_6: 0.8860 - lr: 2.0000e-06\n",
      "Epoch 8/200\n",
      "52/52 [==============================] - ETA: 0s - loss: 0.1751 - bin_acc: 0.9281 - acc_0: 0.9474 - acc_1: 0.8832 - acc_2: 0.9278 - acc_3: 0.9309 - acc_4: 0.9325 - acc_5: 0.9567 - acc_6: 0.9024\n",
      "Epoch 00008: val_loss improved from 0.22572 to 0.22556, saving model to /content/drive/My Drive/checkpoints/ObjReco_EfficientNetB3_2_0121-143553Unfrz.ckpt\n",
      "52/52 [==============================] - 44s 733ms/step - loss: 0.1751 - bin_acc: 0.9281 - acc_0: 0.9474 - acc_1: 0.8832 - acc_2: 0.9278 - acc_3: 0.9309 - acc_4: 0.9325 - acc_5: 0.9567 - acc_6: 0.9024 - val_loss: 0.2256 - val_bin_acc: 0.9101 - val_acc_0: 0.9420 - val_acc_1: 0.8677 - val_acc_2: 0.8950 - val_acc_3: 0.9259 - val_acc_4: 0.8974 - val_acc_5: 0.9253 - val_acc_6: 0.8857 - lr: 2.0000e-06\n",
      "Epoch 9/200\n",
      "52/52 [==============================] - ETA: 0s - loss: 0.1687 - bin_acc: 0.9309 - acc_0: 0.9492 - acc_1: 0.8893 - acc_2: 0.9319 - acc_3: 0.9314 - acc_4: 0.9367 - acc_5: 0.9557 - acc_6: 0.9042\n",
      "Epoch 00009: val_loss improved from 0.22556 to 0.22439, saving model to /content/drive/My Drive/checkpoints/ObjReco_EfficientNetB3_2_0121-143553Unfrz.ckpt\n",
      "52/52 [==============================] - 44s 717ms/step - loss: 0.1687 - bin_acc: 0.9309 - acc_0: 0.9492 - acc_1: 0.8893 - acc_2: 0.9319 - acc_3: 0.9314 - acc_4: 0.9367 - acc_5: 0.9557 - acc_6: 0.9042 - val_loss: 0.2244 - val_bin_acc: 0.9102 - val_acc_0: 0.9433 - val_acc_1: 0.8689 - val_acc_2: 0.8933 - val_acc_3: 0.9222 - val_acc_4: 0.8961 - val_acc_5: 0.9272 - val_acc_6: 0.8879 - lr: 2.0000e-06\n",
      "Epoch 10/200\n",
      "52/52 [==============================] - ETA: 0s - loss: 0.1693 - bin_acc: 0.9301 - acc_0: 0.9449 - acc_1: 0.8864 - acc_2: 0.9352 - acc_3: 0.9372 - acc_4: 0.9377 - acc_5: 0.9567 - acc_6: 0.8931\n",
      "Epoch 00010: val_loss improved from 0.22439 to 0.22276, saving model to /content/drive/My Drive/checkpoints/ObjReco_EfficientNetB3_2_0121-143553Unfrz.ckpt\n",
      "52/52 [==============================] - 44s 726ms/step - loss: 0.1693 - bin_acc: 0.9301 - acc_0: 0.9449 - acc_1: 0.8864 - acc_2: 0.9352 - acc_3: 0.9372 - acc_4: 0.9377 - acc_5: 0.9567 - acc_6: 0.8931 - val_loss: 0.2228 - val_bin_acc: 0.9113 - val_acc_0: 0.9426 - val_acc_1: 0.8691 - val_acc_2: 0.9010 - val_acc_3: 0.9251 - val_acc_4: 0.8957 - val_acc_5: 0.9262 - val_acc_6: 0.8897 - lr: 2.0000e-06\n",
      "Epoch 11/200\n",
      "52/52 [==============================] - ETA: 0s - loss: 0.1675 - bin_acc: 0.9314 - acc_0: 0.9512 - acc_1: 0.8837 - acc_2: 0.9361 - acc_3: 0.9318 - acc_4: 0.9386 - acc_5: 0.9605 - acc_6: 0.9001\n",
      "Epoch 00011: val_loss improved from 0.22276 to 0.22260, saving model to /content/drive/My Drive/checkpoints/ObjReco_EfficientNetB3_2_0121-143553Unfrz.ckpt\n",
      "52/52 [==============================] - 43s 721ms/step - loss: 0.1675 - bin_acc: 0.9314 - acc_0: 0.9512 - acc_1: 0.8837 - acc_2: 0.9361 - acc_3: 0.9318 - acc_4: 0.9386 - acc_5: 0.9605 - acc_6: 0.9001 - val_loss: 0.2226 - val_bin_acc: 0.9115 - val_acc_0: 0.9448 - val_acc_1: 0.8703 - val_acc_2: 0.8939 - val_acc_3: 0.9251 - val_acc_4: 0.8995 - val_acc_5: 0.9253 - val_acc_6: 0.8897 - lr: 2.0000e-06\n",
      "Epoch 12/200\n",
      "52/52 [==============================] - ETA: 0s - loss: 0.1656 - bin_acc: 0.9317 - acc_0: 0.9493 - acc_1: 0.8848 - acc_2: 0.9378 - acc_3: 0.9380 - acc_4: 0.9346 - acc_5: 0.9557 - acc_6: 0.9075\n",
      "Epoch 00012: val_loss improved from 0.22260 to 0.22203, saving model to /content/drive/My Drive/checkpoints/ObjReco_EfficientNetB3_2_0121-143553Unfrz.ckpt\n",
      "52/52 [==============================] - 44s 731ms/step - loss: 0.1656 - bin_acc: 0.9317 - acc_0: 0.9493 - acc_1: 0.8848 - acc_2: 0.9378 - acc_3: 0.9380 - acc_4: 0.9346 - acc_5: 0.9557 - acc_6: 0.9075 - val_loss: 0.2220 - val_bin_acc: 0.9120 - val_acc_0: 0.9429 - val_acc_1: 0.8693 - val_acc_2: 0.8982 - val_acc_3: 0.9259 - val_acc_4: 0.8995 - val_acc_5: 0.9253 - val_acc_6: 0.8918 - lr: 2.0000e-06\n",
      "Epoch 13/200\n",
      "52/52 [==============================] - ETA: 0s - loss: 0.1641 - bin_acc: 0.9348 - acc_0: 0.9492 - acc_1: 0.8906 - acc_2: 0.9393 - acc_3: 0.9439 - acc_4: 0.9418 - acc_5: 0.9610 - acc_6: 0.9035\n",
      "Epoch 00013: val_loss improved from 0.22203 to 0.22106, saving model to /content/drive/My Drive/checkpoints/ObjReco_EfficientNetB3_2_0121-143553Unfrz.ckpt\n",
      "52/52 [==============================] - 44s 718ms/step - loss: 0.1641 - bin_acc: 0.9348 - acc_0: 0.9492 - acc_1: 0.8906 - acc_2: 0.9393 - acc_3: 0.9439 - acc_4: 0.9418 - acc_5: 0.9610 - acc_6: 0.9035 - val_loss: 0.2211 - val_bin_acc: 0.9123 - val_acc_0: 0.9447 - val_acc_1: 0.8691 - val_acc_2: 0.8982 - val_acc_3: 0.9259 - val_acc_4: 0.8991 - val_acc_5: 0.9262 - val_acc_6: 0.8918 - lr: 2.0000e-06\n",
      "Epoch 14/200\n",
      "52/52 [==============================] - ETA: 0s - loss: 0.1658 - bin_acc: 0.9319 - acc_0: 0.9487 - acc_1: 0.8915 - acc_2: 0.9310 - acc_3: 0.9354 - acc_4: 0.9355 - acc_5: 0.9614 - acc_6: 0.9002\n",
      "Epoch 00014: val_loss improved from 0.22106 to 0.21979, saving model to /content/drive/My Drive/checkpoints/ObjReco_EfficientNetB3_2_0121-143553Unfrz.ckpt\n",
      "52/52 [==============================] - 45s 732ms/step - loss: 0.1658 - bin_acc: 0.9319 - acc_0: 0.9487 - acc_1: 0.8915 - acc_2: 0.9310 - acc_3: 0.9354 - acc_4: 0.9355 - acc_5: 0.9614 - acc_6: 0.9002 - val_loss: 0.2198 - val_bin_acc: 0.9115 - val_acc_0: 0.9440 - val_acc_1: 0.8691 - val_acc_2: 0.8982 - val_acc_3: 0.9248 - val_acc_4: 0.8991 - val_acc_5: 0.9260 - val_acc_6: 0.8882 - lr: 2.0000e-06\n",
      "Epoch 15/200\n",
      "52/52 [==============================] - ETA: 0s - loss: 0.1627 - bin_acc: 0.9343 - acc_0: 0.9518 - acc_1: 0.8932 - acc_2: 0.9411 - acc_3: 0.9380 - acc_4: 0.9418 - acc_5: 0.9591 - acc_6: 0.9003\n",
      "Epoch 00015: val_loss improved from 0.21979 to 0.21935, saving model to /content/drive/My Drive/checkpoints/ObjReco_EfficientNetB3_2_0121-143553Unfrz.ckpt\n",
      "52/52 [==============================] - 44s 717ms/step - loss: 0.1627 - bin_acc: 0.9343 - acc_0: 0.9518 - acc_1: 0.8932 - acc_2: 0.9411 - acc_3: 0.9380 - acc_4: 0.9418 - acc_5: 0.9591 - acc_6: 0.9003 - val_loss: 0.2194 - val_bin_acc: 0.9133 - val_acc_0: 0.9437 - val_acc_1: 0.8740 - val_acc_2: 0.8923 - val_acc_3: 0.9252 - val_acc_4: 0.8991 - val_acc_5: 0.9281 - val_acc_6: 0.8915 - lr: 2.0000e-06\n",
      "Epoch 16/200\n",
      "52/52 [==============================] - ETA: 0s - loss: 0.1558 - bin_acc: 0.9360 - acc_0: 0.9560 - acc_1: 0.8891 - acc_2: 0.9386 - acc_3: 0.9407 - acc_4: 0.9487 - acc_5: 0.9613 - acc_6: 0.8999\n",
      "Epoch 00016: val_loss improved from 0.21935 to 0.21817, saving model to /content/drive/My Drive/checkpoints/ObjReco_EfficientNetB3_2_0121-143553Unfrz.ckpt\n",
      "52/52 [==============================] - 45s 728ms/step - loss: 0.1558 - bin_acc: 0.9360 - acc_0: 0.9560 - acc_1: 0.8891 - acc_2: 0.9386 - acc_3: 0.9407 - acc_4: 0.9487 - acc_5: 0.9613 - acc_6: 0.8999 - val_loss: 0.2182 - val_bin_acc: 0.9127 - val_acc_0: 0.9425 - val_acc_1: 0.8633 - val_acc_2: 0.8893 - val_acc_3: 0.9252 - val_acc_4: 0.9000 - val_acc_5: 0.9309 - val_acc_6: 0.8936 - lr: 2.0000e-06\n",
      "Epoch 17/200\n",
      "52/52 [==============================] - ETA: 0s - loss: 0.1576 - bin_acc: 0.9358 - acc_0: 0.9480 - acc_1: 0.8868 - acc_2: 0.9399 - acc_3: 0.9398 - acc_4: 0.9433 - acc_5: 0.9688 - acc_6: 0.9074\n",
      "Epoch 00017: val_loss did not improve from 0.21817\n",
      "52/52 [==============================] - 42s 679ms/step - loss: 0.1576 - bin_acc: 0.9358 - acc_0: 0.9480 - acc_1: 0.8868 - acc_2: 0.9399 - acc_3: 0.9398 - acc_4: 0.9433 - acc_5: 0.9688 - acc_6: 0.9074 - val_loss: 0.2185 - val_bin_acc: 0.9135 - val_acc_0: 0.9437 - val_acc_1: 0.8682 - val_acc_2: 0.8929 - val_acc_3: 0.9277 - val_acc_4: 0.9030 - val_acc_5: 0.9281 - val_acc_6: 0.8917 - lr: 2.0000e-06\n",
      "Epoch 18/200\n",
      "52/52 [==============================] - ETA: 0s - loss: 0.1560 - bin_acc: 0.9369 - acc_0: 0.9530 - acc_1: 0.8911 - acc_2: 0.9397 - acc_3: 0.9443 - acc_4: 0.9444 - acc_5: 0.9635 - acc_6: 0.9030\n",
      "Epoch 00018: val_loss improved from 0.21817 to 0.21790, saving model to /content/drive/My Drive/checkpoints/ObjReco_EfficientNetB3_2_0121-143553Unfrz.ckpt\n",
      "52/52 [==============================] - 43s 707ms/step - loss: 0.1560 - bin_acc: 0.9369 - acc_0: 0.9530 - acc_1: 0.8911 - acc_2: 0.9397 - acc_3: 0.9443 - acc_4: 0.9444 - acc_5: 0.9635 - acc_6: 0.9030 - val_loss: 0.2179 - val_bin_acc: 0.9123 - val_acc_0: 0.9414 - val_acc_1: 0.8684 - val_acc_2: 0.8923 - val_acc_3: 0.9255 - val_acc_4: 0.9018 - val_acc_5: 0.9272 - val_acc_6: 0.8910 - lr: 2.0000e-06\n",
      "Epoch 19/200\n",
      "52/52 [==============================] - ETA: 0s - loss: 0.1576 - bin_acc: 0.9348 - acc_0: 0.9557 - acc_1: 0.8918 - acc_2: 0.9394 - acc_3: 0.9355 - acc_4: 0.9414 - acc_5: 0.9603 - acc_6: 0.9022\n",
      "Epoch 00019: val_loss improved from 0.21790 to 0.21687, saving model to /content/drive/My Drive/checkpoints/ObjReco_EfficientNetB3_2_0121-143553Unfrz.ckpt\n",
      "52/52 [==============================] - 44s 707ms/step - loss: 0.1576 - bin_acc: 0.9348 - acc_0: 0.9557 - acc_1: 0.8918 - acc_2: 0.9394 - acc_3: 0.9355 - acc_4: 0.9414 - acc_5: 0.9603 - acc_6: 0.9022 - val_loss: 0.2169 - val_bin_acc: 0.9135 - val_acc_0: 0.9444 - val_acc_1: 0.8703 - val_acc_2: 0.8917 - val_acc_3: 0.9255 - val_acc_4: 0.9018 - val_acc_5: 0.9290 - val_acc_6: 0.8923 - lr: 2.0000e-06\n",
      "Epoch 20/200\n",
      "52/52 [==============================] - ETA: 0s - loss: 0.1573 - bin_acc: 0.9347 - acc_0: 0.9518 - acc_1: 0.8935 - acc_2: 0.9402 - acc_3: 0.9432 - acc_4: 0.9379 - acc_5: 0.9618 - acc_6: 0.8993\n",
      "Epoch 00020: val_loss did not improve from 0.21687\n",
      "52/52 [==============================] - 43s 699ms/step - loss: 0.1573 - bin_acc: 0.9347 - acc_0: 0.9518 - acc_1: 0.8935 - acc_2: 0.9402 - acc_3: 0.9432 - acc_4: 0.9379 - acc_5: 0.9618 - acc_6: 0.8993 - val_loss: 0.2169 - val_bin_acc: 0.9129 - val_acc_0: 0.9421 - val_acc_1: 0.8691 - val_acc_2: 0.8923 - val_acc_3: 0.9255 - val_acc_4: 0.9000 - val_acc_5: 0.9281 - val_acc_6: 0.8943 - lr: 2.0000e-06\n",
      "Epoch 21/200\n",
      "52/52 [==============================] - ETA: 0s - loss: 0.1508 - bin_acc: 0.9397 - acc_0: 0.9588 - acc_1: 0.9027 - acc_2: 0.9459 - acc_3: 0.9384 - acc_4: 0.9489 - acc_5: 0.9623 - acc_6: 0.9046\n",
      "Epoch 00021: val_loss improved from 0.21687 to 0.21632, saving model to /content/drive/My Drive/checkpoints/ObjReco_EfficientNetB3_2_0121-143553Unfrz.ckpt\n",
      "52/52 [==============================] - 43s 698ms/step - loss: 0.1508 - bin_acc: 0.9397 - acc_0: 0.9588 - acc_1: 0.9027 - acc_2: 0.9459 - acc_3: 0.9384 - acc_4: 0.9489 - acc_5: 0.9623 - acc_6: 0.9046 - val_loss: 0.2163 - val_bin_acc: 0.9131 - val_acc_0: 0.9432 - val_acc_1: 0.8698 - val_acc_2: 0.8882 - val_acc_3: 0.9273 - val_acc_4: 0.9018 - val_acc_5: 0.9281 - val_acc_6: 0.8937 - lr: 2.0000e-06\n",
      "Epoch 22/200\n",
      "52/52 [==============================] - ETA: 0s - loss: 0.1552 - bin_acc: 0.9371 - acc_0: 0.9579 - acc_1: 0.8988 - acc_2: 0.9418 - acc_3: 0.9422 - acc_4: 0.9373 - acc_5: 0.9598 - acc_6: 0.9048\n",
      "Epoch 00022: val_loss improved from 0.21632 to 0.21599, saving model to /content/drive/My Drive/checkpoints/ObjReco_EfficientNetB3_2_0121-143553Unfrz.ckpt\n",
      "52/52 [==============================] - 43s 703ms/step - loss: 0.1552 - bin_acc: 0.9371 - acc_0: 0.9579 - acc_1: 0.8988 - acc_2: 0.9418 - acc_3: 0.9422 - acc_4: 0.9373 - acc_5: 0.9598 - acc_6: 0.9048 - val_loss: 0.2160 - val_bin_acc: 0.9137 - val_acc_0: 0.9443 - val_acc_1: 0.8708 - val_acc_2: 0.8900 - val_acc_3: 0.9262 - val_acc_4: 0.9000 - val_acc_5: 0.9290 - val_acc_6: 0.8957 - lr: 2.0000e-06\n",
      "Epoch 23/200\n",
      "52/52 [==============================] - ETA: 0s - loss: 0.1565 - bin_acc: 0.9380 - acc_0: 0.9588 - acc_1: 0.8976 - acc_2: 0.9438 - acc_3: 0.9403 - acc_4: 0.9439 - acc_5: 0.9592 - acc_6: 0.9045\n",
      "Epoch 00023: val_loss improved from 0.21599 to 0.21421, saving model to /content/drive/My Drive/checkpoints/ObjReco_EfficientNetB3_2_0121-143553Unfrz.ckpt\n",
      "52/52 [==============================] - 43s 703ms/step - loss: 0.1565 - bin_acc: 0.9380 - acc_0: 0.9588 - acc_1: 0.8976 - acc_2: 0.9438 - acc_3: 0.9403 - acc_4: 0.9439 - acc_5: 0.9592 - acc_6: 0.9045 - val_loss: 0.2142 - val_bin_acc: 0.9148 - val_acc_0: 0.9468 - val_acc_1: 0.8729 - val_acc_2: 0.8900 - val_acc_3: 0.9262 - val_acc_4: 0.9009 - val_acc_5: 0.9316 - val_acc_6: 0.8950 - lr: 2.0000e-06\n",
      "Epoch 24/200\n",
      "52/52 [==============================] - ETA: 0s - loss: 0.1538 - bin_acc: 0.9372 - acc_0: 0.9566 - acc_1: 0.8961 - acc_2: 0.9388 - acc_3: 0.9452 - acc_4: 0.9444 - acc_5: 0.9589 - acc_6: 0.9033\n",
      "Epoch 00024: val_loss did not improve from 0.21421\n",
      "52/52 [==============================] - 43s 722ms/step - loss: 0.1538 - bin_acc: 0.9372 - acc_0: 0.9566 - acc_1: 0.8961 - acc_2: 0.9388 - acc_3: 0.9452 - acc_4: 0.9444 - acc_5: 0.9589 - acc_6: 0.9033 - val_loss: 0.2143 - val_bin_acc: 0.9143 - val_acc_0: 0.9439 - val_acc_1: 0.8729 - val_acc_2: 0.8900 - val_acc_3: 0.9262 - val_acc_4: 0.9013 - val_acc_5: 0.9307 - val_acc_6: 0.8950 - lr: 2.0000e-06\n",
      "Epoch 25/200\n",
      "52/52 [==============================] - ETA: 0s - loss: 0.1515 - bin_acc: 0.9386 - acc_0: 0.9565 - acc_1: 0.9007 - acc_2: 0.9403 - acc_3: 0.9468 - acc_4: 0.9403 - acc_5: 0.9615 - acc_6: 0.9089\n",
      "Epoch 00025: val_loss improved from 0.21421 to 0.21347, saving model to /content/drive/My Drive/checkpoints/ObjReco_EfficientNetB3_2_0121-143553Unfrz.ckpt\n",
      "52/52 [==============================] - 43s 727ms/step - loss: 0.1515 - bin_acc: 0.9386 - acc_0: 0.9565 - acc_1: 0.9007 - acc_2: 0.9403 - acc_3: 0.9468 - acc_4: 0.9403 - acc_5: 0.9615 - acc_6: 0.9089 - val_loss: 0.2135 - val_bin_acc: 0.9139 - val_acc_0: 0.9446 - val_acc_1: 0.8663 - val_acc_2: 0.8887 - val_acc_3: 0.9255 - val_acc_4: 0.9009 - val_acc_5: 0.9288 - val_acc_6: 0.8950 - lr: 2.0000e-06\n",
      "Epoch 26/200\n",
      "52/52 [==============================] - ETA: 0s - loss: 0.1519 - bin_acc: 0.9369 - acc_0: 0.9591 - acc_1: 0.8940 - acc_2: 0.9361 - acc_3: 0.9399 - acc_4: 0.9418 - acc_5: 0.9642 - acc_6: 0.9073\n",
      "Epoch 00026: val_loss did not improve from 0.21347\n",
      "52/52 [==============================] - 43s 692ms/step - loss: 0.1519 - bin_acc: 0.9369 - acc_0: 0.9591 - acc_1: 0.8940 - acc_2: 0.9361 - acc_3: 0.9399 - acc_4: 0.9418 - acc_5: 0.9642 - acc_6: 0.9073 - val_loss: 0.2135 - val_bin_acc: 0.9147 - val_acc_0: 0.9446 - val_acc_1: 0.8654 - val_acc_2: 0.8894 - val_acc_3: 0.9262 - val_acc_4: 0.9043 - val_acc_5: 0.9300 - val_acc_6: 0.8965 - lr: 2.0000e-06\n",
      "Epoch 27/200\n",
      "52/52 [==============================] - ETA: 0s - loss: 0.1482 - bin_acc: 0.9401 - acc_0: 0.9609 - acc_1: 0.9077 - acc_2: 0.9436 - acc_3: 0.9418 - acc_4: 0.9409 - acc_5: 0.9624 - acc_6: 0.9064\n",
      "Epoch 00027: val_loss improved from 0.21347 to 0.21346, saving model to /content/drive/My Drive/checkpoints/ObjReco_EfficientNetB3_2_0121-143553Unfrz.ckpt\n",
      "52/52 [==============================] - 44s 716ms/step - loss: 0.1482 - bin_acc: 0.9401 - acc_0: 0.9609 - acc_1: 0.9077 - acc_2: 0.9436 - acc_3: 0.9418 - acc_4: 0.9409 - acc_5: 0.9624 - acc_6: 0.9064 - val_loss: 0.2135 - val_bin_acc: 0.9156 - val_acc_0: 0.9493 - val_acc_1: 0.8731 - val_acc_2: 0.8907 - val_acc_3: 0.9262 - val_acc_4: 0.9052 - val_acc_5: 0.9262 - val_acc_6: 0.8972 - lr: 2.0000e-06\n",
      "Epoch 28/200\n",
      "52/52 [==============================] - ETA: 0s - loss: 0.1485 - bin_acc: 0.9409 - acc_0: 0.9597 - acc_1: 0.9026 - acc_2: 0.9426 - acc_3: 0.9418 - acc_4: 0.9446 - acc_5: 0.9657 - acc_6: 0.9119\n",
      "Epoch 00028: val_loss improved from 0.21346 to 0.21304, saving model to /content/drive/My Drive/checkpoints/ObjReco_EfficientNetB3_2_0121-143553Unfrz.ckpt\n",
      "52/52 [==============================] - 43s 716ms/step - loss: 0.1485 - bin_acc: 0.9409 - acc_0: 0.9597 - acc_1: 0.9026 - acc_2: 0.9426 - acc_3: 0.9418 - acc_4: 0.9446 - acc_5: 0.9657 - acc_6: 0.9119 - val_loss: 0.2130 - val_bin_acc: 0.9155 - val_acc_0: 0.9475 - val_acc_1: 0.8743 - val_acc_2: 0.8907 - val_acc_3: 0.9262 - val_acc_4: 0.9043 - val_acc_5: 0.9281 - val_acc_6: 0.8972 - lr: 6.3200e-07\n",
      "Epoch 29/200\n",
      "52/52 [==============================] - ETA: 0s - loss: 0.1483 - bin_acc: 0.9390 - acc_0: 0.9597 - acc_1: 0.9028 - acc_2: 0.9518 - acc_3: 0.9428 - acc_4: 0.9367 - acc_5: 0.9616 - acc_6: 0.9060\n",
      "Epoch 00029: val_loss improved from 0.21304 to 0.21299, saving model to /content/drive/My Drive/checkpoints/ObjReco_EfficientNetB3_2_0121-143553Unfrz.ckpt\n",
      "52/52 [==============================] - 45s 725ms/step - loss: 0.1483 - bin_acc: 0.9390 - acc_0: 0.9597 - acc_1: 0.9028 - acc_2: 0.9518 - acc_3: 0.9428 - acc_4: 0.9367 - acc_5: 0.9616 - acc_6: 0.9060 - val_loss: 0.2130 - val_bin_acc: 0.9153 - val_acc_0: 0.9464 - val_acc_1: 0.8743 - val_acc_2: 0.8907 - val_acc_3: 0.9262 - val_acc_4: 0.9034 - val_acc_5: 0.9290 - val_acc_6: 0.8972 - lr: 6.3200e-07\n",
      "Epoch 30/200\n",
      "52/52 [==============================] - ETA: 0s - loss: 0.1429 - bin_acc: 0.9439 - acc_0: 0.9603 - acc_1: 0.9042 - acc_2: 0.9491 - acc_3: 0.9486 - acc_4: 0.9483 - acc_5: 0.9662 - acc_6: 0.9177\n",
      "Epoch 00030: val_loss improved from 0.21299 to 0.21269, saving model to /content/drive/My Drive/checkpoints/ObjReco_EfficientNetB3_2_0121-143553Unfrz.ckpt\n",
      "52/52 [==============================] - 44s 713ms/step - loss: 0.1429 - bin_acc: 0.9439 - acc_0: 0.9603 - acc_1: 0.9042 - acc_2: 0.9491 - acc_3: 0.9486 - acc_4: 0.9483 - acc_5: 0.9662 - acc_6: 0.9177 - val_loss: 0.2127 - val_bin_acc: 0.9152 - val_acc_0: 0.9457 - val_acc_1: 0.8663 - val_acc_2: 0.8907 - val_acc_3: 0.9252 - val_acc_4: 0.9034 - val_acc_5: 0.9300 - val_acc_6: 0.8979 - lr: 6.3200e-07\n",
      "Epoch 31/200\n",
      "52/52 [==============================] - ETA: 0s - loss: 0.1423 - bin_acc: 0.9434 - acc_0: 0.9594 - acc_1: 0.9024 - acc_2: 0.9525 - acc_3: 0.9449 - acc_4: 0.9466 - acc_5: 0.9638 - acc_6: 0.9178\n",
      "Epoch 00031: val_loss improved from 0.21269 to 0.21264, saving model to /content/drive/My Drive/checkpoints/ObjReco_EfficientNetB3_2_0121-143553Unfrz.ckpt\n",
      "52/52 [==============================] - 44s 735ms/step - loss: 0.1423 - bin_acc: 0.9434 - acc_0: 0.9594 - acc_1: 0.9024 - acc_2: 0.9525 - acc_3: 0.9449 - acc_4: 0.9466 - acc_5: 0.9638 - acc_6: 0.9178 - val_loss: 0.2126 - val_bin_acc: 0.9150 - val_acc_0: 0.9457 - val_acc_1: 0.8731 - val_acc_2: 0.8907 - val_acc_3: 0.9270 - val_acc_4: 0.9034 - val_acc_5: 0.9279 - val_acc_6: 0.8972 - lr: 6.3200e-07\n",
      "Epoch 32/200\n",
      "52/52 [==============================] - ETA: 0s - loss: 0.1493 - bin_acc: 0.9392 - acc_0: 0.9589 - acc_1: 0.8981 - acc_2: 0.9411 - acc_3: 0.9398 - acc_4: 0.9449 - acc_5: 0.9634 - acc_6: 0.9086\n",
      "Epoch 00032: val_loss improved from 0.21264 to 0.21244, saving model to /content/drive/My Drive/checkpoints/ObjReco_EfficientNetB3_2_0121-143553Unfrz.ckpt\n",
      "52/52 [==============================] - 45s 735ms/step - loss: 0.1493 - bin_acc: 0.9392 - acc_0: 0.9589 - acc_1: 0.8981 - acc_2: 0.9411 - acc_3: 0.9398 - acc_4: 0.9449 - acc_5: 0.9634 - acc_6: 0.9086 - val_loss: 0.2124 - val_bin_acc: 0.9153 - val_acc_0: 0.9457 - val_acc_1: 0.8672 - val_acc_2: 0.8907 - val_acc_3: 0.9270 - val_acc_4: 0.9034 - val_acc_5: 0.9298 - val_acc_6: 0.8972 - lr: 6.3200e-07\n",
      "Epoch 33/200\n",
      "52/52 [==============================] - ETA: 0s - loss: 0.1441 - bin_acc: 0.9423 - acc_0: 0.9611 - acc_1: 0.9033 - acc_2: 0.9466 - acc_3: 0.9467 - acc_4: 0.9447 - acc_5: 0.9641 - acc_6: 0.9158\n",
      "Epoch 00033: val_loss improved from 0.21244 to 0.21206, saving model to /content/drive/My Drive/checkpoints/ObjReco_EfficientNetB3_2_0121-143553Unfrz.ckpt\n",
      "52/52 [==============================] - 44s 713ms/step - loss: 0.1441 - bin_acc: 0.9423 - acc_0: 0.9611 - acc_1: 0.9033 - acc_2: 0.9466 - acc_3: 0.9467 - acc_4: 0.9447 - acc_5: 0.9641 - acc_6: 0.9158 - val_loss: 0.2121 - val_bin_acc: 0.9159 - val_acc_0: 0.9475 - val_acc_1: 0.8672 - val_acc_2: 0.8907 - val_acc_3: 0.9259 - val_acc_4: 0.9052 - val_acc_5: 0.9288 - val_acc_6: 0.8985 - lr: 6.3200e-07\n",
      "Epoch 34/200\n",
      "52/52 [==============================] - ETA: 0s - loss: 0.1476 - bin_acc: 0.9404 - acc_0: 0.9553 - acc_1: 0.8955 - acc_2: 0.9443 - acc_3: 0.9487 - acc_4: 0.9508 - acc_5: 0.9628 - acc_6: 0.9112\n",
      "Epoch 00034: val_loss improved from 0.21206 to 0.21188, saving model to /content/drive/My Drive/checkpoints/ObjReco_EfficientNetB3_2_0121-143553Unfrz.ckpt\n",
      "52/52 [==============================] - 43s 727ms/step - loss: 0.1476 - bin_acc: 0.9404 - acc_0: 0.9553 - acc_1: 0.8955 - acc_2: 0.9443 - acc_3: 0.9487 - acc_4: 0.9508 - acc_5: 0.9628 - acc_6: 0.9112 - val_loss: 0.2119 - val_bin_acc: 0.9157 - val_acc_0: 0.9475 - val_acc_1: 0.8672 - val_acc_2: 0.8907 - val_acc_3: 0.9259 - val_acc_4: 0.9052 - val_acc_5: 0.9288 - val_acc_6: 0.8972 - lr: 6.3200e-07\n",
      "Epoch 35/200\n",
      "52/52 [==============================] - ETA: 0s - loss: 0.1460 - bin_acc: 0.9407 - acc_0: 0.9604 - acc_1: 0.8967 - acc_2: 0.9462 - acc_3: 0.9449 - acc_4: 0.9450 - acc_5: 0.9640 - acc_6: 0.9094\n",
      "Epoch 00035: val_loss improved from 0.21188 to 0.21149, saving model to /content/drive/My Drive/checkpoints/ObjReco_EfficientNetB3_2_0121-143553Unfrz.ckpt\n",
      "52/52 [==============================] - 43s 710ms/step - loss: 0.1460 - bin_acc: 0.9407 - acc_0: 0.9604 - acc_1: 0.8967 - acc_2: 0.9462 - acc_3: 0.9449 - acc_4: 0.9450 - acc_5: 0.9640 - acc_6: 0.9094 - val_loss: 0.2115 - val_bin_acc: 0.9156 - val_acc_0: 0.9482 - val_acc_1: 0.8672 - val_acc_2: 0.8894 - val_acc_3: 0.9252 - val_acc_4: 0.9043 - val_acc_5: 0.9307 - val_acc_6: 0.8972 - lr: 6.3200e-07\n",
      "Epoch 36/200\n",
      "52/52 [==============================] - ETA: 0s - loss: 0.1438 - bin_acc: 0.9441 - acc_0: 0.9611 - acc_1: 0.9097 - acc_2: 0.9554 - acc_3: 0.9465 - acc_4: 0.9433 - acc_5: 0.9685 - acc_6: 0.9115\n",
      "Epoch 00036: val_loss improved from 0.21149 to 0.21139, saving model to /content/drive/My Drive/checkpoints/ObjReco_EfficientNetB3_2_0121-143553Unfrz.ckpt\n",
      "52/52 [==============================] - 45s 739ms/step - loss: 0.1438 - bin_acc: 0.9441 - acc_0: 0.9611 - acc_1: 0.9097 - acc_2: 0.9554 - acc_3: 0.9465 - acc_4: 0.9433 - acc_5: 0.9685 - acc_6: 0.9115 - val_loss: 0.2114 - val_bin_acc: 0.9157 - val_acc_0: 0.9464 - val_acc_1: 0.8672 - val_acc_2: 0.8901 - val_acc_3: 0.9252 - val_acc_4: 0.9043 - val_acc_5: 0.9316 - val_acc_6: 0.8979 - lr: 6.3200e-07\n",
      "Epoch 37/200\n",
      "52/52 [==============================] - ETA: 0s - loss: 0.1464 - bin_acc: 0.9407 - acc_0: 0.9635 - acc_1: 0.8992 - acc_2: 0.9448 - acc_3: 0.9436 - acc_4: 0.9490 - acc_5: 0.9648 - acc_6: 0.9028\n",
      "Epoch 00037: val_loss did not improve from 0.21139\n",
      "52/52 [==============================] - 44s 716ms/step - loss: 0.1464 - bin_acc: 0.9407 - acc_0: 0.9635 - acc_1: 0.8992 - acc_2: 0.9448 - acc_3: 0.9436 - acc_4: 0.9490 - acc_5: 0.9648 - acc_6: 0.9028 - val_loss: 0.2114 - val_bin_acc: 0.9154 - val_acc_0: 0.9464 - val_acc_1: 0.8672 - val_acc_2: 0.8907 - val_acc_3: 0.9252 - val_acc_4: 0.9034 - val_acc_5: 0.9316 - val_acc_6: 0.8965 - lr: 6.3200e-07\n",
      "Epoch 38/200\n",
      "52/52 [==============================] - ETA: 0s - loss: 0.1444 - bin_acc: 0.9420 - acc_0: 0.9605 - acc_1: 0.9003 - acc_2: 0.9447 - acc_3: 0.9443 - acc_4: 0.9475 - acc_5: 0.9643 - acc_6: 0.9164\n",
      "Epoch 00038: val_loss improved from 0.21139 to 0.21116, saving model to /content/drive/My Drive/checkpoints/ObjReco_EfficientNetB3_2_0121-143553Unfrz.ckpt\n",
      "52/52 [==============================] - 43s 700ms/step - loss: 0.1444 - bin_acc: 0.9420 - acc_0: 0.9605 - acc_1: 0.9003 - acc_2: 0.9447 - acc_3: 0.9443 - acc_4: 0.9475 - acc_5: 0.9643 - acc_6: 0.9164 - val_loss: 0.2112 - val_bin_acc: 0.9154 - val_acc_0: 0.9464 - val_acc_1: 0.8672 - val_acc_2: 0.8907 - val_acc_3: 0.9259 - val_acc_4: 0.9043 - val_acc_5: 0.9297 - val_acc_6: 0.8965 - lr: 6.3200e-07\n",
      "Epoch 39/200\n",
      "52/52 [==============================] - ETA: 0s - loss: 0.1447 - bin_acc: 0.9411 - acc_0: 0.9618 - acc_1: 0.9026 - acc_2: 0.9454 - acc_3: 0.9457 - acc_4: 0.9437 - acc_5: 0.9635 - acc_6: 0.9089\n",
      "Epoch 00039: val_loss improved from 0.21116 to 0.21078, saving model to /content/drive/My Drive/checkpoints/ObjReco_EfficientNetB3_2_0121-143553Unfrz.ckpt\n",
      "52/52 [==============================] - 44s 717ms/step - loss: 0.1447 - bin_acc: 0.9411 - acc_0: 0.9618 - acc_1: 0.9026 - acc_2: 0.9454 - acc_3: 0.9457 - acc_4: 0.9437 - acc_5: 0.9635 - acc_6: 0.9089 - val_loss: 0.2108 - val_bin_acc: 0.9155 - val_acc_0: 0.9464 - val_acc_1: 0.8672 - val_acc_2: 0.8901 - val_acc_3: 0.9259 - val_acc_4: 0.9043 - val_acc_5: 0.9307 - val_acc_6: 0.8965 - lr: 6.3200e-07\n",
      "Epoch 40/200\n",
      "52/52 [==============================] - ETA: 0s - loss: 0.1447 - bin_acc: 0.9419 - acc_0: 0.9576 - acc_1: 0.9004 - acc_2: 0.9491 - acc_3: 0.9435 - acc_4: 0.9462 - acc_5: 0.9699 - acc_6: 0.9103\n",
      "Epoch 00040: val_loss improved from 0.21078 to 0.21068, saving model to /content/drive/My Drive/checkpoints/ObjReco_EfficientNetB3_2_0121-143553Unfrz.ckpt\n",
      "52/52 [==============================] - 44s 744ms/step - loss: 0.1447 - bin_acc: 0.9419 - acc_0: 0.9576 - acc_1: 0.9004 - acc_2: 0.9491 - acc_3: 0.9435 - acc_4: 0.9462 - acc_5: 0.9699 - acc_6: 0.9103 - val_loss: 0.2107 - val_bin_acc: 0.9157 - val_acc_0: 0.9475 - val_acc_1: 0.8661 - val_acc_2: 0.8907 - val_acc_3: 0.9259 - val_acc_4: 0.9039 - val_acc_5: 0.9307 - val_acc_6: 0.8978 - lr: 6.3200e-07\n",
      "Epoch 41/200\n",
      "52/52 [==============================] - ETA: 0s - loss: 0.1438 - bin_acc: 0.9418 - acc_0: 0.9600 - acc_1: 0.9007 - acc_2: 0.9404 - acc_3: 0.9419 - acc_4: 0.9482 - acc_5: 0.9610 - acc_6: 0.9225\n",
      "Epoch 00041: val_loss did not improve from 0.21068\n",
      "52/52 [==============================] - 42s 696ms/step - loss: 0.1438 - bin_acc: 0.9418 - acc_0: 0.9600 - acc_1: 0.9007 - acc_2: 0.9404 - acc_3: 0.9419 - acc_4: 0.9482 - acc_5: 0.9610 - acc_6: 0.9225 - val_loss: 0.2108 - val_bin_acc: 0.9160 - val_acc_0: 0.9475 - val_acc_1: 0.8661 - val_acc_2: 0.8907 - val_acc_3: 0.9252 - val_acc_4: 0.9052 - val_acc_5: 0.9316 - val_acc_6: 0.8978 - lr: 6.3200e-07\n",
      "Epoch 42/200\n",
      "52/52 [==============================] - ETA: 0s - loss: 0.1451 - bin_acc: 0.9421 - acc_0: 0.9583 - acc_1: 0.9016 - acc_2: 0.9441 - acc_3: 0.9494 - acc_4: 0.9456 - acc_5: 0.9680 - acc_6: 0.9118\n",
      "Epoch 00042: val_loss did not improve from 0.21068\n",
      "52/52 [==============================] - 42s 703ms/step - loss: 0.1451 - bin_acc: 0.9421 - acc_0: 0.9583 - acc_1: 0.9016 - acc_2: 0.9441 - acc_3: 0.9494 - acc_4: 0.9456 - acc_5: 0.9680 - acc_6: 0.9118 - val_loss: 0.2109 - val_bin_acc: 0.9160 - val_acc_0: 0.9475 - val_acc_1: 0.8661 - val_acc_2: 0.8907 - val_acc_3: 0.9259 - val_acc_4: 0.9052 - val_acc_5: 0.9307 - val_acc_6: 0.8978 - lr: 6.3200e-07\n",
      "Epoch 43/200\n",
      "52/52 [==============================] - ETA: 0s - loss: 0.1436 - bin_acc: 0.9423 - acc_0: 0.9623 - acc_1: 0.9072 - acc_2: 0.9469 - acc_3: 0.9408 - acc_4: 0.9471 - acc_5: 0.9657 - acc_6: 0.9099\n",
      "Epoch 00043: val_loss did not improve from 0.21068\n",
      "52/52 [==============================] - 43s 717ms/step - loss: 0.1436 - bin_acc: 0.9423 - acc_0: 0.9623 - acc_1: 0.9072 - acc_2: 0.9469 - acc_3: 0.9408 - acc_4: 0.9471 - acc_5: 0.9657 - acc_6: 0.9099 - val_loss: 0.2110 - val_bin_acc: 0.9158 - val_acc_0: 0.9475 - val_acc_1: 0.8661 - val_acc_2: 0.8907 - val_acc_3: 0.9259 - val_acc_4: 0.9043 - val_acc_5: 0.9307 - val_acc_6: 0.8978 - lr: 1.9971e-07\n",
      "Epoch 44/200\n",
      "52/52 [==============================] - ETA: 0s - loss: 0.1423 - bin_acc: 0.9432 - acc_0: 0.9626 - acc_1: 0.9060 - acc_2: 0.9467 - acc_3: 0.9388 - acc_4: 0.9531 - acc_5: 0.9672 - acc_6: 0.9116\n",
      "Epoch 00044: val_loss did not improve from 0.21068\n",
      "52/52 [==============================] - 42s 699ms/step - loss: 0.1423 - bin_acc: 0.9432 - acc_0: 0.9626 - acc_1: 0.9060 - acc_2: 0.9467 - acc_3: 0.9388 - acc_4: 0.9531 - acc_5: 0.9672 - acc_6: 0.9116 - val_loss: 0.2110 - val_bin_acc: 0.9159 - val_acc_0: 0.9475 - val_acc_1: 0.8672 - val_acc_2: 0.8907 - val_acc_3: 0.9259 - val_acc_4: 0.9043 - val_acc_5: 0.9307 - val_acc_6: 0.8978 - lr: 1.9971e-07\n",
      "Epoch 45/200\n",
      "52/52 [==============================] - ETA: 0s - loss: 0.1434 - bin_acc: 0.9418 - acc_0: 0.9599 - acc_1: 0.9070 - acc_2: 0.9419 - acc_3: 0.9442 - acc_4: 0.9476 - acc_5: 0.9632 - acc_6: 0.9130\n",
      "Epoch 00045: val_loss did not improve from 0.21068\n",
      "52/52 [==============================] - 45s 753ms/step - loss: 0.1434 - bin_acc: 0.9418 - acc_0: 0.9599 - acc_1: 0.9070 - acc_2: 0.9419 - acc_3: 0.9442 - acc_4: 0.9476 - acc_5: 0.9632 - acc_6: 0.9130 - val_loss: 0.2110 - val_bin_acc: 0.9159 - val_acc_0: 0.9475 - val_acc_1: 0.8672 - val_acc_2: 0.8907 - val_acc_3: 0.9259 - val_acc_4: 0.9043 - val_acc_5: 0.9307 - val_acc_6: 0.8978 - lr: 6.3109e-08\n"
     ]
    },
    {
     "data": {
      "text/plain": [
       "<keras.callbacks.History at 0x7fe22fef9490>"
      ]
     },
     "execution_count": 37,
     "metadata": {},
     "output_type": "execute_result"
    }
   ],
   "source": [
    "model.fit(train_gen,\n",
    "          steps_per_epoch = new_train_steps,\n",
    "          epochs=200,\n",
    "          validation_data=val_gen,\n",
    "          validation_steps=new_val_steps,\n",
    "          workers=8,\n",
    "          callbacks=callbacks,\n",
    "          use_multiprocessing=True)\n"
   ]
  },
  {
   "cell_type": "code",
   "execution_count": null,
   "metadata": {
    "id": "3ndxawMpqIhQ"
   },
   "outputs": [],
   "source": [
    "model.save_weights(CHECKPOINT_DIR+\".h5\")"
   ]
  },
  {
   "cell_type": "code",
   "execution_count": null,
   "metadata": {
    "id": "OJhpMOrt5Gfi"
   },
   "outputs": [],
   "source": [
    "#del train_gen\n",
    "#del val_gen\n",
    "test_train_data_gen = test_img_gen.flow(x=X_train,y=y_w_train,shuffle=False,batch_size=BATCH_SIZE)\n",
    "test_train_val_gen = test_img_gen.flow(x=X_test,y=y_w_test,shuffle=False,batch_size=BATCH_SIZE)"
   ]
  },
  {
   "cell_type": "markdown",
   "metadata": {},
   "source": [
    "## Predict categories for train/test datasets and print out confusion matrix per category"
   ]
  },
  {
   "cell_type": "code",
   "execution_count": null,
   "metadata": {
    "id": "fBb5DWY4-wDA"
   },
   "outputs": [],
   "source": [
    "y_test_pred = model.predict(test_train_val_gen,steps=val_steps,batch_size=BATCH_SIZE)\n",
    "y_train_pred = model.predict(test_train_data_gen,steps=train_steps,batch_size=BATCH_SIZE)"
   ]
  },
  {
   "cell_type": "code",
   "execution_count": null,
   "metadata": {
    "colab": {
     "base_uri": "https://localhost:8080/",
     "height": 368
    },
    "executionInfo": {
     "elapsed": 1909,
     "status": "ok",
     "timestamp": 1642779670801,
     "user": {
      "displayName": "Maks Wojtas",
      "photoUrl": "https://lh3.googleusercontent.com/a-/AOh14GiTCyEeMsETGANb159xHh6rPT0tjQEvbsrDmbW_Tg=s64",
      "userId": "11103437561791788771"
     },
     "user_tz": 0
    },
    "id": "QuXTLsOF-9-r",
    "outputId": "4ddc5316-322a-48b7-ae13-951f6fdad9dc"
   },
   "outputs": [
    {
     "data": {
      "image/png": "[encoded data removed]",
      "text/plain": [
       "<Figure size 1080x504 with 14 Axes>"
      ]
     },
     "metadata": {
      "needs_background": "light"
     },
     "output_type": "display_data"
    }
   ],
   "source": [
    "from sklearn.metrics import confusion_matrix, ConfusionMatrixDisplay\n",
    "fig, axes = plt.subplots(2,N_CATEGORIES,  sharey='row',figsize=(15,7))\n",
    "axes = axes.ravel()\n",
    "for c in range(N_CATEGORIES):\n",
    "  #plt.subplot(2,N_CATEGORIES,c+1)\n",
    "  cf = confusion_matrix(y_w_train[:,c],y_train_pred[:,c]>0.0,normalize='all')\n",
    "  disp = ConfusionMatrixDisplay(cf)\n",
    "  disp.plot(ax=axes[c], xticks_rotation=45)\n",
    "  disp.ax_.set_title(clothing_cats[c])\n",
    "  disp.im_.colorbar.remove()\n",
    "\n",
    "for c in range(N_CATEGORIES):\n",
    "  #plt.subplot(2,N_CATEGORIES,c+1)\n",
    "  cf = confusion_matrix(y_w_test[:,c],y_test_pred[:,c]>0.0,normalize='all')\n",
    "  disp = ConfusionMatrixDisplay(cf)\n",
    "  disp.plot(ax=axes[N_CATEGORIES+c], xticks_rotation=45)\n",
    "  disp.ax_.set_title(clothing_cats[c])\n",
    "  disp.im_.colorbar.remove()\n",
    "\n",
    "plt.subplots_adjust(wspace=0.40, hspace=0.1)\n",
    "plt.show()"
   ]
  }
 ],
 "metadata": {
  "accelerator": "GPU",
  "colab": {
   "authorship_tag": "ABX9TyP4wh83Z7w8abtaJ2dOqhI4",
   "machine_shape": "hm",
   "provenance": [
    {
     "file_id": "1IvBymsit901H8B7-nV62T1NE6ldMF4-W",
     "timestamp": 1638965069165
    },
    {
     "file_id": "1ApZnVpVUNRxZq5hpQ1QwMPKDJf5U1aVi",
     "timestamp": 1608027787705
    },
    {
     "file_id": "1l27uLSOXaPsWcXzv_fk0PbjyjokTekNH",
     "timestamp": 1603361964160
    }
   ]
  },
  "kernelspec": {
   "display_name": "Python 3 (ipykernel)",
   "language": "python",
   "name": "python3"
  },
  "language_info": {
   "codemirror_mode": {
    "name": "ipython",
    "version": 3
   },
   "file_extension": ".py",
   "mimetype": "text/x-python",
   "name": "python",
   "nbconvert_exporter": "python",
   "pygments_lexer": "ipython3",
   "version": "3.8.10"
  },
  "varInspector": {
   "cols": {
    "lenName": 16,
    "lenType": 16,
    "lenVar": 40
   },
   "kernels_config": {
    "python": {
     "delete_cmd_postfix": "",
     "delete_cmd_prefix": "del ",
     "library": "var_list.py",
     "varRefreshCmd": "print(var_dic_list())"
    },
    "r": {
     "delete_cmd_postfix": ") ",
     "delete_cmd_prefix": "rm(",
     "library": "var_list.r",
     "varRefreshCmd": "cat(var_dic_list()) "
    }
   },
   "types_to_exclude": [
    "module",
    "function",
    "builtin_function_or_method",
    "instance",
    "_Feature"
   ],
   "window_display": false
  }
 },
 "nbformat": 4,
 "nbformat_minor": 1
}
